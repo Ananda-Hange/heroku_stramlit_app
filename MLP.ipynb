{
  "nbformat": 4,
  "nbformat_minor": 0,
  "metadata": {
    "colab": {
      "name": "MLP_abhi.ipynb",
      "provenance": [],
      "collapsed_sections": []
    },
    "kernelspec": {
      "name": "python3",
      "display_name": "Python 3"
    },
    "language_info": {
      "name": "python"
    }
  },
  "cells": [
    {
      "cell_type": "code",
      "metadata": {
        "id": "JeeDalpfpBD4"
      },
      "source": [
        "import pandas as pd\n",
        "import numpy as np\n",
        "import matplotlib.pyplot as plt\n",
        "import math\n",
        "from sklearn.model_selection import train_test_split"
      ],
      "execution_count": 29,
      "outputs": []
    },
    {
      "cell_type": "code",
      "metadata": {
        "colab": {
          "base_uri": "https://localhost:8080/",
          "height": 204
        },
        "id": "3jUuzDj9pRqd",
        "outputId": "8ffdbb4c-194d-4239-b949-f1fda72c4a70"
      },
      "source": [
        "data = pd.read_csv('data1.csv')\n",
        "data.head()"
      ],
      "execution_count": 30,
      "outputs": [
        {
          "output_type": "execute_result",
          "data": {
            "text/html": [
              "<div>\n",
              "<style scoped>\n",
              "    .dataframe tbody tr th:only-of-type {\n",
              "        vertical-align: middle;\n",
              "    }\n",
              "\n",
              "    .dataframe tbody tr th {\n",
              "        vertical-align: top;\n",
              "    }\n",
              "\n",
              "    .dataframe thead th {\n",
              "        text-align: right;\n",
              "    }\n",
              "</style>\n",
              "<table border=\"1\" class=\"dataframe\">\n",
              "  <thead>\n",
              "    <tr style=\"text-align: right;\">\n",
              "      <th></th>\n",
              "      <th>FT</th>\n",
              "      <th>FFR</th>\n",
              "      <th>CFR</th>\n",
              "      <th>N</th>\n",
              "      <th>W</th>\n",
              "      <th>L</th>\n",
              "      <th>FLUX</th>\n",
              "    </tr>\n",
              "  </thead>\n",
              "  <tbody>\n",
              "    <tr>\n",
              "      <th>0</th>\n",
              "      <td>75.0</td>\n",
              "      <td>1</td>\n",
              "      <td>1.0</td>\n",
              "      <td>1</td>\n",
              "      <td>5</td>\n",
              "      <td>170.0</td>\n",
              "      <td>6.00</td>\n",
              "    </tr>\n",
              "    <tr>\n",
              "      <th>1</th>\n",
              "      <td>75.0</td>\n",
              "      <td>3</td>\n",
              "      <td>3.0</td>\n",
              "      <td>1</td>\n",
              "      <td>5</td>\n",
              "      <td>170.0</td>\n",
              "      <td>10.60</td>\n",
              "    </tr>\n",
              "    <tr>\n",
              "      <th>2</th>\n",
              "      <td>45.0</td>\n",
              "      <td>1</td>\n",
              "      <td>1.0</td>\n",
              "      <td>1</td>\n",
              "      <td>5</td>\n",
              "      <td>370.0</td>\n",
              "      <td>0.50</td>\n",
              "    </tr>\n",
              "    <tr>\n",
              "      <th>3</th>\n",
              "      <td>75.0</td>\n",
              "      <td>1</td>\n",
              "      <td>1.0</td>\n",
              "      <td>35</td>\n",
              "      <td>5</td>\n",
              "      <td>370.0</td>\n",
              "      <td>11.38</td>\n",
              "    </tr>\n",
              "    <tr>\n",
              "      <th>4</th>\n",
              "      <td>75.0</td>\n",
              "      <td>1</td>\n",
              "      <td>3.0</td>\n",
              "      <td>1</td>\n",
              "      <td>1</td>\n",
              "      <td>370.0</td>\n",
              "      <td>8.50</td>\n",
              "    </tr>\n",
              "  </tbody>\n",
              "</table>\n",
              "</div>"
            ],
            "text/plain": [
              "     FT  FFR  CFR   N  W      L   FLUX\n",
              "0  75.0    1  1.0   1  5  170.0   6.00\n",
              "1  75.0    3  3.0   1  5  170.0  10.60\n",
              "2  45.0    1  1.0   1  5  370.0   0.50\n",
              "3  75.0    1  1.0  35  5  370.0  11.38\n",
              "4  75.0    1  3.0   1  1  370.0   8.50"
            ]
          },
          "metadata": {
            "tags": []
          },
          "execution_count": 30
        }
      ]
    },
    {
      "cell_type": "code",
      "metadata": {
        "colab": {
          "base_uri": "https://localhost:8080/"
        },
        "id": "tpnaj-PlpYkd",
        "outputId": "8314a00f-08a3-46a6-cc69-318a6c6e5e14"
      },
      "source": [
        "data.shape"
      ],
      "execution_count": 31,
      "outputs": [
        {
          "output_type": "execute_result",
          "data": {
            "text/plain": [
              "(87, 7)"
            ]
          },
          "metadata": {
            "tags": []
          },
          "execution_count": 31
        }
      ]
    },
    {
      "cell_type": "code",
      "metadata": {
        "id": "QjmONvVEpcZt"
      },
      "source": [
        "X1 = data[['FT','FFR','CFR','N','W','L']]\n",
        "X1 = np.array(X1)\n",
        "\n",
        "X1 = np.log(X1)\n",
        "\n",
        "y1 = data['FLUX']\n",
        "y1 = np.log(y1)"
      ],
      "execution_count": 32,
      "outputs": []
    },
    {
      "cell_type": "code",
      "metadata": {
        "colab": {
          "base_uri": "https://localhost:8080/"
        },
        "id": "gFdUFm_ju9lW",
        "outputId": "6e47f068-429b-48b7-c029-501b03de5ac6"
      },
      "source": [
        "X_train, X_test, y_train, y_test = train_test_split(X1, y1, test_size=0.15, random_state=42)\n",
        "\n",
        "\n",
        "y_train = np.array(y_train)\n",
        "y_test = np.array(y_test)\n",
        "print(X_train.shape)\n",
        "print(X_test.shape)"
      ],
      "execution_count": 33,
      "outputs": [
        {
          "output_type": "stream",
          "text": [
            "(73, 6)\n",
            "(14, 6)\n"
          ],
          "name": "stdout"
        }
      ]
    },
    {
      "cell_type": "markdown",
      "metadata": {
        "id": "eqwPOOYv1k9F"
      },
      "source": [
        "# Perceptron"
      ]
    },
    {
      "cell_type": "code",
      "metadata": {
        "id": "LPV626GVu-c-"
      },
      "source": [
        "def forward_prop(X,y,w):\n",
        "    \n",
        "    #w[0]=k , w[1]=a , w[2]=b , w[3]=c ,w[4]=d ,w[5]=e, w[6]=f\n",
        "    #X[0]=p1 , X[1]=p2, X[2]=p3, X[3]=p4, X[4]=p5, X[5]=p6\n",
        "    '''\n",
        "    x1 = w[0] * X[0]\n",
        "    x2 = w[1] * X[1]\n",
        "    x3 = w[2] * X[2]\n",
        "    x4 = w[3] * X[3]\n",
        "    x5 = w[4] * X[4]\n",
        "    x6 = w[5] * X[5]'''\n",
        "    \n",
        "    y_hat = np.dot(w,X)\n",
        "    \n",
        "    \n",
        "    L = (y-y_hat)**2\n",
        "    \n",
        "    dL = -2*(y-y_hat)\n",
        "    \n",
        "    dict = {\n",
        "        'dL' : dL,\n",
        "        'y_hat' : y_hat,\n",
        "        'loss' : L\n",
        "    }\n",
        "    \n",
        "    return dict\n",
        "\n",
        "    "
      ],
      "execution_count": 34,
      "outputs": []
    },
    {
      "cell_type": "code",
      "metadata": {
        "id": "aA526RC-vCjh"
      },
      "source": [
        "def back_prop(X,w,dict):\n",
        "    \n",
        "    \n",
        "    z = dict['dL']\n",
        "    \n",
        "    da = z * X[0]\n",
        "    db = z * X[1]\n",
        "    dc = z * X[2]\n",
        "    dd = z * X[3]\n",
        "    de = z * X[4]\n",
        "    df = z * X[5]\n",
        "    \n",
        "    dict_d = {\n",
        "        'da':da,\n",
        "        'db':db,\n",
        "        'dc':dc,\n",
        "        'dd':dd,\n",
        "        'de':de,\n",
        "        'df':df\n",
        "\n",
        "    }\n",
        "      \n",
        "    return dict_d    "
      ],
      "execution_count": 35,
      "outputs": []
    },
    {
      "cell_type": "code",
      "metadata": {
        "colab": {
          "base_uri": "https://localhost:8080/"
        },
        "id": "wPv-fW9mvFfT",
        "outputId": "10442a8c-5029-4768-a7db-756c1d0a0bc7"
      },
      "source": [
        "#test purpose\n",
        "W =np.ones(6)*0.1\n",
        "\n",
        "dict = forward_prop(X_train[0], y_train[0],W)\n",
        "print(dict)\n",
        "\n",
        "print(back_prop(X_train[0],W,dict))"
      ],
      "execution_count": 36,
      "outputs": [
        {
          "output_type": "stream",
          "text": [
            "{'dL': -2.2621431817054667, 'y_hat': 1.7593001670434312, 'loss': 1.2793229436341331}\n",
            "{'da': -9.766776298130562, 'db': -2.4852182981484026, 'dc': -2.4852182981484026, 'dd': -8.042706375888026, 'de': -3.64077899999108, 'df': -13.377190504199396}\n"
          ],
          "name": "stdout"
        }
      ]
    },
    {
      "cell_type": "code",
      "metadata": {
        "colab": {
          "base_uri": "https://localhost:8080/"
        },
        "id": "oiJ9xTfevJO7",
        "outputId": "c1e06227-37bf-4ed3-baf4-91337a8d018c"
      },
      "source": [
        "W = np.random.normal(loc=1, scale=1, size=6) \n",
        "#W =np.ones(7)*0.5\n",
        "epoch = 5000\n",
        "learning_rate = 0.001\n",
        "loss_sgd_tr = []\n",
        "loss_sgd_te = []\n",
        "epochs = []\n",
        "\n",
        "\n",
        "for i in range (epoch):\n",
        "    #print('epoch {}'.format(i+1))\n",
        "    loss = 0\n",
        "    loss1 = 0\n",
        "    for j in range(len(X_train)):\n",
        "        forward = forward_prop(X_train[j],y_train[j],W)\n",
        "        loss += forward['loss']\n",
        "        #print(X[j])\n",
        "        #print('forward' , forward)\n",
        "    \n",
        "        backward = back_prop(X_train[j],W,forward)\n",
        "        dw = list(backward.values())\n",
        "        #print('backward' ,dw)\n",
        "        W = W - (learning_rate * np.array(dw))\n",
        "        #print('W',W)\n",
        "    for k in range(len(X_test)):\n",
        "        forward = forward_prop(X_test[k],y_test[k],W)\n",
        "        loss1 += forward['loss']\n",
        "\n",
        "    loss_sgd_tr.append(loss/len(X_train))\n",
        "    loss_sgd_te.append(loss/len(X_test))\n",
        "    epochs.append(i)\n",
        "\n",
        "print('Train loss at the end of {} epoch is : {}'.format(epoch,loss_sgd_tr[-1]))\n",
        "print('Test loss at the end of {} epoch is : {}'.format(epoch,loss_sgd_te[-1]))\n",
        "#print('epoch:',epochs)\n",
        "#print(W)"
      ],
      "execution_count": 54,
      "outputs": [
        {
          "output_type": "stream",
          "text": [
            "Train loss at the end of 5000 epoch is : 1.9211520591803652\n",
            "Test loss at the end of 5000 epoch is : 10.017435737154761\n"
          ],
          "name": "stdout"
        }
      ]
    },
    {
      "cell_type": "code",
      "metadata": {
        "colab": {
          "base_uri": "https://localhost:8080/",
          "height": 295
        },
        "id": "Hdz8ah6MwYJQ",
        "outputId": "f368eeea-d815-4e56-e8e5-9c1e2ded2d09"
      },
      "source": [
        "plt.plot(epochs,loss_sgd_tr,label = 'train loss')\n",
        "plt.plot(epochs,loss_sgd_te,label = 'test loss')\n",
        "plt.legend()\n",
        "plt.xlabel(\"epochs\")\n",
        "plt.ylabel(\"loss\")\n",
        "plt.title(\"epochs Vs loss\")\n",
        "plt.grid()\n",
        "plt.show()"
      ],
      "execution_count": 55,
      "outputs": [
        {
          "output_type": "display_data",
          "data": {
            "image/png": "[encoded data removed]",
            "text/plain": [
              "<Figure size 432x288 with 1 Axes>"
            ]
          },
          "metadata": {
            "tags": [],
            "needs_background": "light"
          }
        }
      ]
    },
    {
      "cell_type": "code",
      "metadata": {
        "colab": {
          "base_uri": "https://localhost:8080/"
        },
        "id": "XrVn157BO_LD",
        "outputId": "f58d6bf7-af8c-49a9-9c9a-0336cb057da7"
      },
      "source": [
        "W"
      ],
      "execution_count": 56,
      "outputs": [
        {
          "output_type": "execute_result",
          "data": {
            "text/plain": [
              "array([ 0.62987159, -0.14663387,  0.32099864,  0.0463321 ,  0.40955925,\n",
              "       -0.30065567])"
            ]
          },
          "metadata": {
            "tags": []
          },
          "execution_count": 56
        }
      ]
    },
    {
      "cell_type": "markdown",
      "metadata": {
        "id": "Wjk-U95jDZim"
      },
      "source": [
        "# Momentum"
      ]
    },
    {
      "cell_type": "code",
      "metadata": {
        "colab": {
          "base_uri": "https://localhost:8080/"
        },
        "id": "wNBYBebwxaDa",
        "outputId": "aa36a2af-58c7-4f6e-a637-f299f462ac8f"
      },
      "source": [
        "W = np.random.normal(loc=0.1, scale=0.1, size=6) \n",
        "vdw = np.zeros(6)\n",
        "#W =np.ones(7)*0.5\n",
        "epoch = 5000\n",
        "learning_rate = 0.001\n",
        "loss_momt_tr = []\n",
        "loss_momt_te = []\n",
        "epochs = []\n",
        "beta = 0.5\n",
        "\n",
        "\n",
        "for i in range (epoch):\n",
        "    #print('epoch {}'.format(i+1))\n",
        "    loss = 0\n",
        "    loss1 = 0\n",
        "    for j in range(len(X_train)):\n",
        "        forward = forward_prop(X_train[j],y_train[j],W)\n",
        "        loss += forward['loss']\n",
        "        #print(X[j])\n",
        "        #print('forward' , forward)\n",
        "    \n",
        "        backward = back_prop(X_train[j],W,forward)\n",
        "        dw = list(backward.values())\n",
        "        #print('backward' ,dw)\n",
        "        vdw = (beta * vdw) + ((1-beta)*np.array(dw))\n",
        "        W = W - (learning_rate *vdw)\n",
        "        \n",
        "        #print('W',W)\n",
        "    for k in range(len(X_test)):\n",
        "        forward = forward_prop(X_test[k],y_test[k],W)\n",
        "        loss1 += forward['loss']\n",
        "\n",
        "    loss_momt_tr.append(loss/len(X_train))\n",
        "    loss_momt_te.append(loss/len(X_test))\n",
        "    epochs.append(i)\n",
        "\n",
        "print('Train loss at the end of {} epoch is : {}'.format(epoch,loss_momt_tr[-1]))\n",
        "print('Test loss at the end of {} epoch is : {}'.format(epoch,loss_momt_te[-1]))\n",
        "#print('epoch:',epochs)\n",
        "#print(W)"
      ],
      "execution_count": 57,
      "outputs": [
        {
          "output_type": "stream",
          "text": [
            "Train loss at the end of 5000 epoch is : 1.9375140436752143\n",
            "Test loss at the end of 5000 epoch is : 10.102751799163617\n"
          ],
          "name": "stdout"
        }
      ]
    },
    {
      "cell_type": "code",
      "metadata": {
        "colab": {
          "base_uri": "https://localhost:8080/",
          "height": 295
        },
        "id": "VnljiqT4EMOi",
        "outputId": "0755acf9-9554-4735-aa0a-4a32a0fc4884"
      },
      "source": [
        "plt.plot(epochs,loss_momt_tr,label = 'Train loss')\n",
        "plt.plot(epochs,loss_momt_te,label = 'Test loss')\n",
        "\n",
        "plt.legend()\n",
        "plt.xlabel(\"epochs\")\n",
        "plt.ylabel(\"loss\")\n",
        "plt.title(\"epochs Vs loss\")\n",
        "plt.grid()\n",
        "plt.show()\n"
      ],
      "execution_count": 58,
      "outputs": [
        {
          "output_type": "display_data",
          "data": {
            "image/png": "[encoded data removed]",
            "text/plain": [
              "<Figure size 432x288 with 1 Axes>"
            ]
          },
          "metadata": {
            "tags": [],
            "needs_background": "light"
          }
        }
      ]
    },
    {
      "cell_type": "code",
      "metadata": {
        "colab": {
          "base_uri": "https://localhost:8080/"
        },
        "id": "W08WXUbCPEXD",
        "outputId": "0e2c2be1-07ae-466c-b8c7-edf0f3744c98"
      },
      "source": [
        "W"
      ],
      "execution_count": 59,
      "outputs": [
        {
          "output_type": "execute_result",
          "data": {
            "text/plain": [
              "array([ 0.62301614, -0.16297852,  0.32600203,  0.03942831,  0.39786653,\n",
              "       -0.31072881])"
            ]
          },
          "metadata": {
            "tags": []
          },
          "execution_count": 59
        }
      ]
    },
    {
      "cell_type": "code",
      "metadata": {
        "id": "gag8PSWUIerD"
      },
      "source": [
        "np.save('W_momt.npy', W)"
      ],
      "execution_count": 55,
      "outputs": []
    },
    {
      "cell_type": "markdown",
      "metadata": {
        "id": "loMhSi3OJYWm"
      },
      "source": [
        "## adam"
      ]
    },
    {
      "cell_type": "code",
      "metadata": {
        "colab": {
          "base_uri": "https://localhost:8080/"
        },
        "id": "HbzbJEnVJaFh",
        "outputId": "673aa512-ae15-4280-804a-afec04a30329"
      },
      "source": [
        "W = np.random.normal(loc=0.1, scale=0.1, size=6) \n",
        "vdw = np.zeros(6)\n",
        "sdw = np.zeros(6)\n",
        "epoch = 500\n",
        "learning_rate = 0.0001\n",
        "weights = []\n",
        "\n",
        "epochs = []\n",
        "beta1 = 0.9\n",
        "beta2 = 0.99\n",
        "eps = 0.000001\n",
        "#print(W)\n",
        "#for k in range (len(X)):\n",
        "  #forward = forward_propagation(X[k],y[k],W)\n",
        "  #loss = forward['loss']\n",
        "\n",
        "#print('initial loss',loss)\n",
        "loss_adam_tr = []\n",
        "loss_adam_te = []\n",
        "\n",
        "for i in range (epoch):\n",
        "  loss = 0\n",
        "  loss1 = 0\n",
        "  #print('epoch {}'.format(i+1))\n",
        "  for j in range (len(X_train)):\n",
        "\n",
        "    forward = forward_prop(X_train[j],y_train[j],W)\n",
        "    loss = forward['loss']\n",
        "    backward = back_prop(X_train[j],W,forward)\n",
        "    #print(backward)\n",
        "    dw = list(backward.values())\n",
        "    vdw = (beta1 * vdw) + ((1-beta1) * np.array(dw))\n",
        "    #s = np.array(dw)**2\n",
        "    #print(s)\n",
        "    sdw = (beta2 * sdw) + ((1-beta2)* np.array(dw)**2)\n",
        "    #print(sdw)\n",
        "    v_hat = vdw / (1-beta1**(j+1))\n",
        "    s_hat = sdw / (1-beta2**(j+1))\n",
        "    #print(s_hat)\n",
        "    #sq = (s_hat)**0.5\n",
        "    #print(sq)\n",
        "   # add = sq + eps\n",
        "    W = W - ((learning_rate* v_hat)/((s_hat)**0.5 + eps))\n",
        "\n",
        "    for k in range(len(X_test)):\n",
        "      forward = forward_prop(X_test[k],y_test[k],W)\n",
        "      loss1 += forward['loss']\n",
        "    \n",
        "    \n",
        "  loss_adam_tr.append(loss/len(X_train))\n",
        "  loss_adam_te.append(loss1/len(X_test))\n",
        "  epochs.append(i)\n",
        "  #print(loss_adam)\n",
        "\n",
        "print('Train loss at the end of {} epoch is : {}'.format(epoch,loss_adam_tr[-1]))\n",
        "print('Test loss at the end of {} epoch is : {}'.format(epoch,loss_adam_te[-1]))\n",
        "#print('epoch:',epochs)\n",
        "\n"
      ],
      "execution_count": 50,
      "outputs": [
        {
          "output_type": "stream",
          "text": [
            "Train loss at the end of 500 epoch is : 0.02217999349682129\n",
            "Test loss at the end of 500 epoch is : 146.4506281859261\n"
          ],
          "name": "stdout"
        }
      ]
    },
    {
      "cell_type": "code",
      "metadata": {
        "colab": {
          "base_uri": "https://localhost:8080/",
          "height": 295
        },
        "id": "hO4enLI3Ku9h",
        "outputId": "69c59438-cab1-4f9d-b41e-4539027764e3"
      },
      "source": [
        "plt.plot(epochs,loss_adam_tr,label = 'Train loss')\n",
        "plt.plot(epochs,loss_adam_te,label = 'Test loss')\n",
        "\n",
        "plt.legend()\n",
        "plt.xlabel(\"epochs\")\n",
        "plt.ylabel(\"loss\")\n",
        "plt.title(\"epochs Vs loss\")\n",
        "plt.grid()\n",
        "plt.show()\n"
      ],
      "execution_count": 51,
      "outputs": [
        {
          "output_type": "display_data",
          "data": {
            "image/png": "[encoded data removed]",
            "text/plain": [
              "<Figure size 432x288 with 1 Axes>"
            ]
          },
          "metadata": {
            "tags": [],
            "needs_background": "light"
          }
        }
      ]
    },
    {
      "cell_type": "markdown",
      "metadata": {
        "id": "8ZfI-rHOxt5Z"
      },
      "source": [
        "# MLP"
      ]
    },
    {
      "cell_type": "code",
      "metadata": {
        "id": "CwuO04E6xxks"
      },
      "source": [
        "def sigmoid(z):\n",
        "    '''In this function, we will compute the sigmoid(z)'''\n",
        "    # we can use this function in forward and backward propagation\n",
        "\n",
        "    return (1/(1+np.exp(-z)))\n",
        "\n",
        "def forward_prop1(X,y,W1,W2):\n",
        "    \n",
        "    \n",
        "    #z11 = W1[:,0][0]*X[0] + W1[:,0][1]*X[1] + W1[:,0][2]*X[2] + W1[:,0][3]*X[3] + W1[:,0][4]*X[4] + W1[:,0][5]*X[5]\n",
        "    #z12 = W1[:,1][0]*X[0] + W1[:,1][1]*X[1] + W1[:,1][2]*X[2] + W1[:,1][3]*X[3] + W1[:,1][4]*X[4] + W1[:,1][5]*X[5]\n",
        "    #z13 = W1[:,2][0]*X[0] + W1[:,2][1]*X[1] + W1[:,2][2]*X[2] + W1[:,2][3]*X[3] + W1[:,2][4]*X[4] + W1[:,2][5]*X[5]\n",
        "    #print(X[0])\n",
        "    z11,z12,z13 = np.dot(np.transpose(W1),X.reshape(-1,1))\n",
        "    #print(s)\n",
        "    \n",
        "    #z11 = s[0]\n",
        "    #z12 = s[1]\n",
        "    #z13 = s[2]\n",
        "    \n",
        "    o11 = sigmoid(z11)\n",
        "    o12 = sigmoid(z12)\n",
        "    o13 = sigmoid(z13)\n",
        "    \n",
        "    \n",
        "    y_hat = o11*W2[0] + o12*W2[1] + o13*W2[2]\n",
        "    \n",
        "    L = (y-y_hat)**2\n",
        "    \n",
        "    dL = -2*(y-y_hat)\n",
        "    \n",
        "    dict = {\n",
        "        'dL' : dL,\n",
        "        'y_hat' : y_hat,\n",
        "        'loss' : L,\n",
        "        'o11' : o11,\n",
        "        'o12' : o12,\n",
        "        'o13' : o13\n",
        "    }\n",
        "    \n",
        "    return dict"
      ],
      "execution_count": 52,
      "outputs": []
    },
    {
      "cell_type": "code",
      "metadata": {
        "id": "L7uKZ-kNx46H"
      },
      "source": [
        "def back_prop1(X,W1,W2,dict):\n",
        "    \n",
        "    w1 = []\n",
        "    w2 = []\n",
        "    w3 = []\n",
        "    \n",
        "    dW112 = dict['dL'] * dict['o11']\n",
        "    dW212 = dict['dL'] * dict['o12']\n",
        "    dW312 = dict['dL'] * dict['o13']\n",
        "    \n",
        "    a = dict['dL'] * W2[0] * dict['o11'] * (1 - dict['o11'])\n",
        "    b = dict['dL'] * W2[1] * dict['o12'] * (1 - dict['o12'])\n",
        "    c = dict['dL'] * W2[2] * dict['o13'] * (1 - dict['o13'])\n",
        "    '''\n",
        "    dW111 = a * X[0]\n",
        "    dW211 = a * X[1]\n",
        "    dW311 = a * X[2]\n",
        "    dW411 = a * X[3]\n",
        "    dW511 = a * X[4]\n",
        "    dW611 = a * X[5]\n",
        "    \n",
        "    dW121 = b * X[0]\n",
        "    dW221 = b * X[1]\n",
        "    dW321 = b * X[2]\n",
        "    dW421 = b * X[3]\n",
        "    dW521 = b * X[4]\n",
        "    dW621 = b * X[5]\n",
        "    \n",
        "    dW131 = c * X[0]\n",
        "    dW231 = c * X[1]\n",
        "    dW331 = c * X[2]\n",
        "    dW431 = c * X[3]\n",
        "    dW531 = c * X[4]\n",
        "    dW631 = c * X[5]'''\n",
        "    \n",
        "    \n",
        "    for i in range(len(X)):\n",
        "        w1.append(a[0] * X[i])\n",
        "        w2.append(b[0] * X[i])\n",
        "        w3.append(c[0] * X[i])\n",
        "        \n",
        "    w1 = np.array(w1).reshape(-1,1)\n",
        "    w2 = np.array(w2).reshape(-1,1)\n",
        "    w3 = np.array(w3).reshape(-1,1)\n",
        "    \n",
        "    w11= np.hstack((w1,w2,w3))\n",
        "    \n",
        "    w22 = np.array([dW112,dW212,dW312]).reshape(-1,1)\n",
        "    \n",
        "    return w11 , w22\n",
        "    \n",
        "    "
      ],
      "execution_count": 53,
      "outputs": []
    },
    {
      "cell_type": "code",
      "metadata": {
        "colab": {
          "base_uri": "https://localhost:8080/"
        },
        "id": "dqIjzsMDx54t",
        "outputId": "f9da293c-326d-43a1-bbb6-8b47b8eff09f"
      },
      "source": [
        "W1 = np.random.normal(0.1,0.2, size=(6,3))\n",
        "W2 = np.random.normal(0.1,0.2, size=(3,1))\n",
        "#W =np.ones(7)*0.5\n",
        "epoch = 2500\n",
        "learning_rate = 0.001\n",
        "loss_sgd_tr = []\n",
        "loss_sgd_te = []\n",
        "epochs = []\n",
        "\n",
        "\n",
        "for i in range (epoch):\n",
        "    #print('epoch {}'.format(i+1))\n",
        "    loss = 0\n",
        "    loss1 = 0\n",
        "    for j in range (len(X_train)):\n",
        "        forward = forward_prop1(X_train[j],y_train[j],W1,W2)\n",
        "        loss += forward['loss']\n",
        "        #print(X[j])\n",
        "        #print('forward' , forward)\n",
        "    \n",
        "        w11 , w22 = back_prop1(X_train[j],W1,W2,forward)\n",
        "        #dw = list(backward.values())\n",
        "        #print('backward' ,dw)\n",
        "        W1 = W1 - (learning_rate * w11)\n",
        "        W2 = W2 - (learning_rate * w22)\n",
        "        #print('W',W)\n",
        "    for k in range(len(X_test)):\n",
        "        forward = forward_prop1(X_test[k],y_test[k],W1,W2)\n",
        "        loss1 += forward['loss']\n",
        "        \n",
        "    loss_sgd_tr.append(loss/len(X_train))\n",
        "    loss_sgd_te.append(loss1/len(X_test))\n",
        "    epochs.append(i)\n",
        "\n",
        "print('Train loss at the end of {} epoch is : {}'.format(epoch,loss_sgd_tr[-1]))\n",
        "print('Test loss at the end of {} epoch is : {}'.format(epoch,loss_sgd_te[-1]))\n",
        "#print('epoch:',epochs)\n",
        "#print(W)"
      ],
      "execution_count": 56,
      "outputs": [
        {
          "output_type": "stream",
          "text": [
            "Train loss at the end of 2500 epoch is : [0.57572962]\n",
            "Test loss at the end of 2500 epoch is : [0.62439226]\n"
          ],
          "name": "stdout"
        }
      ]
    },
    {
      "cell_type": "code",
      "metadata": {
        "colab": {
          "base_uri": "https://localhost:8080/",
          "height": 295
        },
        "id": "Wqk2emW7x8Ri",
        "outputId": "ac62a502-17d5-4a50-8cdc-ea133865ee09"
      },
      "source": [
        "plt.plot(epochs,loss_sgd_tr,label = 'train loss')\n",
        "plt.plot(epochs,loss_sgd_te,label = 'test loss')\n",
        "plt.legend()\n",
        "plt.xlabel(\"epochs\")\n",
        "plt.ylabel(\"loss\")\n",
        "plt.title(\"epochs Vs loss\")\n",
        "plt.grid()\n",
        "plt.show()"
      ],
      "execution_count": 57,
      "outputs": [
        {
          "output_type": "display_data",
          "data": {
            "image/png": "[encoded data removed]",
            "text/plain": [
              "<Figure size 432x288 with 1 Axes>"
            ]
          },
          "metadata": {
            "tags": [],
            "needs_background": "light"
          }
        }
      ]
    },
    {
      "cell_type": "code",
      "metadata": {
        "colab": {
          "base_uri": "https://localhost:8080/"
        },
        "id": "6MDoIPoSx-9H",
        "outputId": "0478376d-0305-4586-f51a-b4a53baf7963"
      },
      "source": [
        "W1 "
      ],
      "execution_count": 58,
      "outputs": [
        {
          "output_type": "execute_result",
          "data": {
            "text/plain": [
              "array([[ 3.05495243,  1.11312164,  5.16632747],\n",
              "       [ 0.22304865, -0.33692103,  0.01947535],\n",
              "       [ 0.40597768,  0.30966646,  1.27061079],\n",
              "       [ 0.53149111,  0.85614165, -5.77757101],\n",
              "       [-0.39578015,  0.41121506,  3.09335941],\n",
              "       [-2.28254174,  0.6967693 , -0.05271692]])"
            ]
          },
          "metadata": {
            "tags": []
          },
          "execution_count": 58
        }
      ]
    },
    {
      "cell_type": "code",
      "metadata": {
        "colab": {
          "base_uri": "https://localhost:8080/"
        },
        "id": "4SPFq5l2yj54",
        "outputId": "238ab7e2-e39e-4731-f07a-4458357f8ba0"
      },
      "source": [
        "W2"
      ],
      "execution_count": 59,
      "outputs": [
        {
          "output_type": "execute_result",
          "data": {
            "text/plain": [
              "array([[ 3.10232909],\n",
              "       [-6.73636464],\n",
              "       [ 6.33608892]])"
            ]
          },
          "metadata": {
            "tags": []
          },
          "execution_count": 59
        }
      ]
    },
    {
      "cell_type": "code",
      "metadata": {
        "id": "SeMLkLIHzSu9"
      },
      "source": [
        "np.save('W1.npy', W1)\n",
        "np.save('W2.npy', W2)\n",
        "np.save('W.npy', W)"
      ],
      "execution_count": 60,
      "outputs": []
    },
    {
      "cell_type": "code",
      "metadata": {
        "id": "BHc8brhh3ZDG"
      },
      "source": [
        ""
      ],
      "execution_count": null,
      "outputs": []
    },
    {
      "cell_type": "markdown",
      "metadata": {
        "id": "1ZEW8PeG9W_b"
      },
      "source": [
        "# Momentum\n"
      ]
    },
    {
      "cell_type": "code",
      "metadata": {
        "colab": {
          "base_uri": "https://localhost:8080/"
        },
        "id": "JRP7d3cu9ZXZ",
        "outputId": "85331490-8ab4-4d67-ea24-e30a62c45fc7"
      },
      "source": [
        "W1 = np.random.normal(0.1,0.2, size=(6,3))\n",
        "W2 = np.random.normal(0.1,0.2, size=(3,1))\n",
        "#W =np.ones(7)*0.5\n",
        "epoch = 2500\n",
        "learning_rate = 0.001\n",
        "loss_momt_tr = []\n",
        "loss_momt_te = []\n",
        "epochs = []\n",
        "vdw1 = np.zeros((6,3))\n",
        "vdw2 = np.zeros((3,1))\n",
        "\n",
        "epochs = []\n",
        "beta = 0.5\n",
        "for i in range (epoch):\n",
        "  #print('epoch {}'.format(i+1))\n",
        "  loss = 0 \n",
        "  loss1 = 0\n",
        "  for j in range (len(X_train)):\n",
        "    forward = forward_prop1(X_train[j],y_train[j],W1,W2)\n",
        "    loss += forward['loss']\n",
        "    w11 , w22 = back_prop1(X_train[j],W1,W2,forward)\n",
        "    \n",
        "    vdw1 = (beta * vdw1) + ((1-beta)*w11)\n",
        "    vdw2 = (beta * vdw2) + ((1-beta)*w22)\n",
        "    W1 = W1 - (learning_rate *vdw1)\n",
        "    W2 = W2 - (learning_rate *vdw2)\n",
        "    \n",
        "  for k in range(len(X_test)):\n",
        "      forward = forward_prop1(X_test[k],y_test[k],W1,W2)\n",
        "      loss1 += forward['loss']\n",
        "        \n",
        "  loss_momt_tr.append(loss/len(X_train))\n",
        "  loss_momt_te.append(loss1/len(X_test))\n",
        "  epochs.append(i)\n",
        "\n",
        "print('Train loss at the end of {} epoch is : {}'.format(epoch,loss_momt_tr[-1]))\n",
        "print('Test loss at the end of {} epoch is : {}'.format(epoch,loss_momt_te[-1]))\n",
        "#print('epoch:',epochs)\n",
        "#print(W)\n",
        "#print(vdw)"
      ],
      "execution_count": 78,
      "outputs": [
        {
          "output_type": "stream",
          "text": [
            "Train loss at the end of 2500 epoch is : [0.5899542]\n",
            "Test loss at the end of 2500 epoch is : [0.58616308]\n"
          ],
          "name": "stdout"
        }
      ]
    },
    {
      "cell_type": "code",
      "metadata": {
        "colab": {
          "base_uri": "https://localhost:8080/",
          "height": 295
        },
        "id": "rrXtsWdhALfg",
        "outputId": "16bd2182-db25-44ad-aa60-52bf5cdd186f"
      },
      "source": [
        "plt.plot(epochs,loss_momt_tr,label = 'Train loss')\n",
        "plt.plot(epochs,loss_momt_te,label = 'Test loss')\n",
        "\n",
        "plt.legend()\n",
        "plt.xlabel(\"epochs\")\n",
        "plt.ylabel(\"loss\")\n",
        "plt.title(\"epochs Vs loss\")\n",
        "plt.grid()\n",
        "plt.show()\n"
      ],
      "execution_count": 79,
      "outputs": [
        {
          "output_type": "display_data",
          "data": {
            "image/png": "[encoded data removed]",
            "text/plain": [
              "<Figure size 432x288 with 1 Axes>"
            ]
          },
          "metadata": {
            "tags": [],
            "needs_background": "light"
          }
        }
      ]
    },
    {
      "cell_type": "code",
      "metadata": {
        "colab": {
          "base_uri": "https://localhost:8080/"
        },
        "id": "dVZiQiB5AaUj",
        "outputId": "1f031b8a-59af-4d5d-9708-c2e67d1fe60e"
      },
      "source": [
        "W1"
      ],
      "execution_count": 80,
      "outputs": [
        {
          "output_type": "execute_result",
          "data": {
            "text/plain": [
              "array([[ 5.03570446,  1.11124493,  3.06388173],\n",
              "       [-0.03942352,  0.32370781,  0.21624785],\n",
              "       [ 1.18675019,  0.02168453,  0.42846768],\n",
              "       [-5.62390449,  0.69467412,  0.52986892],\n",
              "       [ 3.09605612,  0.48796148, -0.4179648 ],\n",
              "       [-0.05000243,  0.67299477, -2.28907803]])"
            ]
          },
          "metadata": {
            "tags": []
          },
          "execution_count": 80
        }
      ]
    },
    {
      "cell_type": "code",
      "metadata": {
        "colab": {
          "base_uri": "https://localhost:8080/"
        },
        "id": "k2phnGIwDJzI",
        "outputId": "de7fa8a1-dbe1-42c9-a79d-93894b9ad064"
      },
      "source": [
        "W2"
      ],
      "execution_count": 81,
      "outputs": [
        {
          "output_type": "execute_result",
          "data": {
            "text/plain": [
              "array([[ 6.20991942],\n",
              "       [-6.60087694],\n",
              "       [ 3.08921726]])"
            ]
          },
          "metadata": {
            "tags": []
          },
          "execution_count": 81
        }
      ]
    },
    {
      "cell_type": "code",
      "metadata": {
        "id": "k0nCoczyDLY8"
      },
      "source": [
        "np.save('W1_momt.npy', W1)\n",
        "np.save('W2_momt.npy', W2)\n"
      ],
      "execution_count": 84,
      "outputs": []
    },
    {
      "cell_type": "markdown",
      "metadata": {
        "id": "47-nulS0E0Qt"
      },
      "source": [
        "# Adam"
      ]
    },
    {
      "cell_type": "code",
      "metadata": {
        "colab": {
          "base_uri": "https://localhost:8080/"
        },
        "id": "GkwmfhmYEVvu",
        "outputId": "9e9c89fc-4199-46cd-8a76-2bb49b50be02"
      },
      "source": [
        "W1 = np.random.normal(0.1,0.2, size=(6,3))\n",
        "W2 = np.random.normal(0.1,0.2, size=(3,1)) \n",
        "vdw1 = np.zeros((6,3))\n",
        "vdw2 = np.zeros((3,1))\n",
        "sdw1 = np.zeros((6,3))\n",
        "sdw2 = np.zeros((3,1))\n",
        "epoch = 500\n",
        "learning_rate = 0.0001\n",
        "weights = []\n",
        "\n",
        "epochs = []\n",
        "beta1 = 0.8\n",
        "beta2 = 0.99\n",
        "eps = 0.000001\n",
        "#print(W)\n",
        "#for k in range (len(X)):\n",
        "  #forward = forward_propagation(X[k],y[k],W)\n",
        "  #loss = forward['loss']\n",
        "\n",
        "#print('initial loss',loss)\n",
        "loss_adam_tr = []\n",
        "loss_adam_te = []\n",
        "\n",
        "for i in range (epoch):\n",
        "  #print('epoch {}'.format(i+1))\n",
        "  for j in range (len(X_train)):\n",
        "\n",
        "    forward = forward_prop1(X_train[j],y_train[j],W1,W2)\n",
        "    loss = forward['loss']\n",
        "    w11 , w22 = back_prop1(X_train[j],W1,W2,forward )\n",
        "    #print(backward)\n",
        "    vdw1 = (beta1 * vdw1) + ((1-beta1) * np.array(w11))\n",
        "    vdw2 = (beta1 * vdw2) + ((1-beta1) * np.array(w22))\n",
        "    #s = np.array(dw)**2\n",
        "    #print(s)\n",
        "    sdw1 = (beta2 * sdw1) + ((1-beta2)* np.array(w11)**2)\n",
        "    sdw2 = (beta2 * sdw2) + ((1-beta2)* np.array(w22)**2)\n",
        "    #print(sdw)\n",
        "    v_hat1 = vdw1 / (1-beta1**(j+1))\n",
        "    v_hat2 = vdw2 / (1-beta1**(j+1))\n",
        "    s_hat1 = sdw1 / (1-beta2**(j+1))\n",
        "    s_hat2 = sdw2 / (1-beta2**(j+1))\n",
        "    #print(s_hat)\n",
        "    #sq = (s_hat)**0.5\n",
        "    #print(sq)\n",
        "   # add = sq + eps\n",
        "    W1 = W1 - ((learning_rate* v_hat1)/((s_hat1)**0.5 + eps))\n",
        "    W2 = W2 - ((learning_rate* v_hat2)/((s_hat2)**0.5 + eps))\n",
        "\n",
        "\n",
        "  for k in range(len(X_test)):\n",
        "    forward = forward_prop1(X_test[k],y_test[k],W1,W2)\n",
        "    loss1 += forward['loss']   \n",
        "    \n",
        "  loss_adam_tr.append(loss/len(X_train))\n",
        "  loss_adam_te.append(loss/len(X_test))\n",
        "  #weights.append(W)\n",
        "  epochs.append(i)\n",
        "  #print(loss_adam)\n",
        "\n",
        "print('loss at the end of {} epoch is : {}'.format(epoch,loss_adam_tr[-1]))\n",
        "print('loss at the end of {} epoch is : {}'.format(epoch,loss_adam_te[-1]))\n",
        "#print('epoch:',epochs)\n"
      ],
      "execution_count": 114,
      "outputs": [
        {
          "output_type": "stream",
          "text": [
            "loss at the end of 500 epoch is : [0.02389952]\n",
            "loss at the end of 500 epoch is : [0.12461893]\n"
          ],
          "name": "stdout"
        }
      ]
    },
    {
      "cell_type": "code",
      "metadata": {
        "colab": {
          "base_uri": "https://localhost:8080/",
          "height": 295
        },
        "id": "V_s_C95LGoMR",
        "outputId": "36635f6b-5eed-48c5-9dfd-6ca78d16bda4"
      },
      "source": [
        "plt.plot(epochs,loss_adam_tr,label = 'Train loss')\n",
        "plt.plot(epochs,loss_adam_te,label = 'Test loss')\n",
        "\n",
        "plt.legend()\n",
        "plt.xlabel(\"epochs\")\n",
        "plt.ylabel(\"loss\")\n",
        "plt.title(\"epochs Vs loss\")\n",
        "plt.grid()\n",
        "plt.show()\n"
      ],
      "execution_count": 115,
      "outputs": [
        {
          "output_type": "display_data",
          "data": {
            "image/png": "[encoded data removed]",
            "text/plain": [
              "<Figure size 432x288 with 1 Axes>"
            ]
          },
          "metadata": {
            "tags": [],
            "needs_background": "light"
          }
        }
      ]
    },
    {
      "cell_type": "code",
      "metadata": {
        "id": "_NKAxfDpGwy2"
      },
      "source": [
        "np.save('W1_adam.npy', W1)\n",
        "np.save('W2_adam.npy', W2)\n",
        "np.save('W_adam.npy', W)"
      ],
      "execution_count": 124,
      "outputs": []
    },
    {
      "cell_type": "markdown",
      "metadata": {
        "id": "zGJ2DuOK8iXL"
      },
      "source": [
        "# Deploy Model"
      ]
    },
    {
      "cell_type": "code",
      "metadata": {
        "colab": {
          "base_uri": "https://localhost:8080/",
          "height": 1000
        },
        "id": "hxHL0XIp__oB",
        "outputId": "97fee7a7-5cc8-4a88-bce2-64fcc4fbb95d"
      },
      "source": [
        "\n",
        "!pip install streamlit\n",
        "\n",
        "\n",
        "!pip install pyngrok"
      ],
      "execution_count": 3,
      "outputs": [
        {
          "output_type": "stream",
          "text": [
            "Collecting streamlit\n",
            "\u001b[?25l  Downloading https://files.pythonhosted.org/packages/d9/99/a8913c21bd07a14f72658a01784414ffecb380ddd0f9a127257314fea697/streamlit-0.80.0-py2.py3-none-any.whl (8.2MB)\n",
            "\u001b[K     |████████████████████████████████| 8.2MB 5.3MB/s \n",
            "\u001b[?25hRequirement already satisfied: python-dateutil in /usr/local/lib/python3.7/dist-packages (from streamlit) (2.8.1)\n",
            "Requirement already satisfied: pandas>=0.21.0 in /usr/local/lib/python3.7/dist-packages (from streamlit) (1.1.5)\n",
            "Requirement already satisfied: tornado>=5.0 in /usr/local/lib/python3.7/dist-packages (from streamlit) (5.1.1)\n",
            "Requirement already satisfied: click>=7.0 in /usr/local/lib/python3.7/dist-packages (from streamlit) (7.1.2)\n",
            "Collecting watchdog; platform_system != \"Darwin\"\n",
            "\u001b[?25l  Downloading https://files.pythonhosted.org/packages/c6/ba/a36ca5b4e75649a002f06531862467b3eb5c768caa23d6d88b921fe238d8/watchdog-2.0.2-py3-none-manylinux2014_x86_64.whl (74kB)\n",
            "\u001b[K     |████████████████████████████████| 81kB 7.2MB/s \n",
            "\u001b[?25hRequirement already satisfied: pyarrow; python_version < \"3.9\" in /usr/local/lib/python3.7/dist-packages (from streamlit) (3.0.0)\n",
            "Collecting base58\n",
            "  Downloading https://files.pythonhosted.org/packages/b8/a1/d9f565e9910c09fd325dc638765e8843a19fa696275c16cc08cf3b0a3c25/base58-2.1.0-py3-none-any.whl\n",
            "Requirement already satisfied: pillow>=6.2.0 in /usr/local/lib/python3.7/dist-packages (from streamlit) (7.1.2)\n",
            "Requirement already satisfied: numpy in /usr/local/lib/python3.7/dist-packages (from streamlit) (1.19.5)\n",
            "Requirement already satisfied: toml in /usr/local/lib/python3.7/dist-packages (from streamlit) (0.10.2)\n",
            "Collecting validators\n",
            "  Downloading https://files.pythonhosted.org/packages/db/2f/7fed3ee94ad665ad2c1de87f858f10a7785251ff75b4fd47987888d07ef1/validators-0.18.2-py3-none-any.whl\n",
            "Requirement already satisfied: packaging in /usr/local/lib/python3.7/dist-packages (from streamlit) (20.9)\n",
            "Collecting blinker\n",
            "\u001b[?25l  Downloading https://files.pythonhosted.org/packages/1b/51/e2a9f3b757eb802f61dc1f2b09c8c99f6eb01cf06416c0671253536517b6/blinker-1.4.tar.gz (111kB)\n",
            "\u001b[K     |████████████████████████████████| 112kB 41.7MB/s \n",
            "\u001b[?25hRequirement already satisfied: protobuf!=3.11,>=3.6.0 in /usr/local/lib/python3.7/dist-packages (from streamlit) (3.12.4)\n",
            "Requirement already satisfied: tzlocal in /usr/local/lib/python3.7/dist-packages (from streamlit) (1.5.1)\n",
            "Requirement already satisfied: altair>=3.2.0 in /usr/local/lib/python3.7/dist-packages (from streamlit) (4.1.0)\n",
            "Collecting gitpython\n",
            "\u001b[?25l  Downloading https://files.pythonhosted.org/packages/a6/99/98019716955ba243657daedd1de8f3a88ca1f5b75057c38e959db22fb87b/GitPython-3.1.14-py3-none-any.whl (159kB)\n",
            "\u001b[K     |████████████████████████████████| 163kB 47.3MB/s \n",
            "\u001b[?25hRequirement already satisfied: requests in /usr/local/lib/python3.7/dist-packages (from streamlit) (2.23.0)\n",
            "Requirement already satisfied: cachetools>=4.0 in /usr/local/lib/python3.7/dist-packages (from streamlit) (4.2.1)\n",
            "Requirement already satisfied: astor in /usr/local/lib/python3.7/dist-packages (from streamlit) (0.8.1)\n",
            "Collecting pydeck>=0.1.dev5\n",
            "\u001b[?25l  Downloading https://files.pythonhosted.org/packages/1c/3f/8f04ae0c22d82ec7bec7fcc03270a142f637e362bbd285f7daeeda24fbef/pydeck-0.6.1-py2.py3-none-any.whl (4.6MB)\n",
            "\u001b[K     |████████████████████████████████| 4.6MB 38.1MB/s \n",
            "\u001b[?25hRequirement already satisfied: six>=1.5 in /usr/local/lib/python3.7/dist-packages (from python-dateutil->streamlit) (1.15.0)\n",
            "Requirement already satisfied: pytz>=2017.2 in /usr/local/lib/python3.7/dist-packages (from pandas>=0.21.0->streamlit) (2018.9)\n",
            "Requirement already satisfied: decorator>=3.4.0 in /usr/local/lib/python3.7/dist-packages (from validators->streamlit) (4.4.2)\n",
            "Requirement already satisfied: pyparsing>=2.0.2 in /usr/local/lib/python3.7/dist-packages (from packaging->streamlit) (2.4.7)\n",
            "Requirement already satisfied: setuptools in /usr/local/lib/python3.7/dist-packages (from protobuf!=3.11,>=3.6.0->streamlit) (54.2.0)\n",
            "Requirement already satisfied: toolz in /usr/local/lib/python3.7/dist-packages (from altair>=3.2.0->streamlit) (0.11.1)\n",
            "Requirement already satisfied: jinja2 in /usr/local/lib/python3.7/dist-packages (from altair>=3.2.0->streamlit) (2.11.3)\n",
            "Requirement already satisfied: entrypoints in /usr/local/lib/python3.7/dist-packages (from altair>=3.2.0->streamlit) (0.3)\n",
            "Requirement already satisfied: jsonschema in /usr/local/lib/python3.7/dist-packages (from altair>=3.2.0->streamlit) (2.6.0)\n",
            "Collecting gitdb<5,>=4.0.1\n",
            "\u001b[?25l  Downloading https://files.pythonhosted.org/packages/ea/e8/f414d1a4f0bbc668ed441f74f44c116d9816833a48bf81d22b697090dba8/gitdb-4.0.7-py3-none-any.whl (63kB)\n",
            "\u001b[K     |████████████████████████████████| 71kB 6.8MB/s \n",
            "\u001b[?25hRequirement already satisfied: certifi>=2017.4.17 in /usr/local/lib/python3.7/dist-packages (from requests->streamlit) (2020.12.5)\n",
            "Requirement already satisfied: chardet<4,>=3.0.2 in /usr/local/lib/python3.7/dist-packages (from requests->streamlit) (3.0.4)\n",
            "Requirement already satisfied: urllib3!=1.25.0,!=1.25.1,<1.26,>=1.21.1 in /usr/local/lib/python3.7/dist-packages (from requests->streamlit) (1.24.3)\n",
            "Requirement already satisfied: idna<3,>=2.5 in /usr/local/lib/python3.7/dist-packages (from requests->streamlit) (2.10)\n",
            "Requirement already satisfied: traitlets>=4.3.2 in /usr/local/lib/python3.7/dist-packages (from pydeck>=0.1.dev5->streamlit) (5.0.5)\n",
            "Collecting ipykernel>=5.1.2; python_version >= \"3.4\"\n",
            "\u001b[?25l  Downloading https://files.pythonhosted.org/packages/3a/7d/9f8ac1b1b76f2f1538b5650f0b5636bae082724b1e06939a3a9d38e1380e/ipykernel-5.5.3-py3-none-any.whl (120kB)\n",
            "\u001b[K     |████████████████████████████████| 122kB 38.1MB/s \n",
            "\u001b[?25hRequirement already satisfied: ipywidgets>=7.0.0 in /usr/local/lib/python3.7/dist-packages (from pydeck>=0.1.dev5->streamlit) (7.6.3)\n",
            "Requirement already satisfied: MarkupSafe>=0.23 in /usr/local/lib/python3.7/dist-packages (from jinja2->altair>=3.2.0->streamlit) (1.1.1)\n",
            "Collecting smmap<5,>=3.0.1\n",
            "  Downloading https://files.pythonhosted.org/packages/68/ee/d540eb5e5996eb81c26ceffac6ee49041d473bc5125f2aa995cf51ec1cf1/smmap-4.0.0-py2.py3-none-any.whl\n",
            "Requirement already satisfied: ipython-genutils in /usr/local/lib/python3.7/dist-packages (from traitlets>=4.3.2->pydeck>=0.1.dev5->streamlit) (0.2.0)\n",
            "Requirement already satisfied: jupyter-client in /usr/local/lib/python3.7/dist-packages (from ipykernel>=5.1.2; python_version >= \"3.4\"->pydeck>=0.1.dev5->streamlit) (5.3.5)\n",
            "Requirement already satisfied: ipython>=5.0.0 in /usr/local/lib/python3.7/dist-packages (from ipykernel>=5.1.2; python_version >= \"3.4\"->pydeck>=0.1.dev5->streamlit) (5.5.0)\n",
            "Requirement already satisfied: nbformat>=4.2.0 in /usr/local/lib/python3.7/dist-packages (from ipywidgets>=7.0.0->pydeck>=0.1.dev5->streamlit) (5.1.2)\n",
            "Requirement already satisfied: widgetsnbextension~=3.5.0 in /usr/local/lib/python3.7/dist-packages (from ipywidgets>=7.0.0->pydeck>=0.1.dev5->streamlit) (3.5.1)\n",
            "Requirement already satisfied: jupyterlab-widgets>=1.0.0; python_version >= \"3.6\" in /usr/local/lib/python3.7/dist-packages (from ipywidgets>=7.0.0->pydeck>=0.1.dev5->streamlit) (1.0.0)\n",
            "Requirement already satisfied: jupyter-core>=4.6.0 in /usr/local/lib/python3.7/dist-packages (from jupyter-client->ipykernel>=5.1.2; python_version >= \"3.4\"->pydeck>=0.1.dev5->streamlit) (4.7.1)\n",
            "Requirement already satisfied: pyzmq>=13 in /usr/local/lib/python3.7/dist-packages (from jupyter-client->ipykernel>=5.1.2; python_version >= \"3.4\"->pydeck>=0.1.dev5->streamlit) (22.0.3)\n",
            "Requirement already satisfied: pexpect; sys_platform != \"win32\" in /usr/local/lib/python3.7/dist-packages (from ipython>=5.0.0->ipykernel>=5.1.2; python_version >= \"3.4\"->pydeck>=0.1.dev5->streamlit) (4.8.0)\n",
            "Requirement already satisfied: prompt-toolkit<2.0.0,>=1.0.4 in /usr/local/lib/python3.7/dist-packages (from ipython>=5.0.0->ipykernel>=5.1.2; python_version >= \"3.4\"->pydeck>=0.1.dev5->streamlit) (1.0.18)\n",
            "Requirement already satisfied: pickleshare in /usr/local/lib/python3.7/dist-packages (from ipython>=5.0.0->ipykernel>=5.1.2; python_version >= \"3.4\"->pydeck>=0.1.dev5->streamlit) (0.7.5)\n",
            "Requirement already satisfied: pygments in /usr/local/lib/python3.7/dist-packages (from ipython>=5.0.0->ipykernel>=5.1.2; python_version >= \"3.4\"->pydeck>=0.1.dev5->streamlit) (2.6.1)\n",
            "Requirement already satisfied: simplegeneric>0.8 in /usr/local/lib/python3.7/dist-packages (from ipython>=5.0.0->ipykernel>=5.1.2; python_version >= \"3.4\"->pydeck>=0.1.dev5->streamlit) (0.8.1)\n",
            "Requirement already satisfied: notebook>=4.4.1 in /usr/local/lib/python3.7/dist-packages (from widgetsnbextension~=3.5.0->ipywidgets>=7.0.0->pydeck>=0.1.dev5->streamlit) (5.3.1)\n",
            "Requirement already satisfied: ptyprocess>=0.5 in /usr/local/lib/python3.7/dist-packages (from pexpect; sys_platform != \"win32\"->ipython>=5.0.0->ipykernel>=5.1.2; python_version >= \"3.4\"->pydeck>=0.1.dev5->streamlit) (0.7.0)\n",
            "Requirement already satisfied: wcwidth in /usr/local/lib/python3.7/dist-packages (from prompt-toolkit<2.0.0,>=1.0.4->ipython>=5.0.0->ipykernel>=5.1.2; python_version >= \"3.4\"->pydeck>=0.1.dev5->streamlit) (0.2.5)\n",
            "Requirement already satisfied: nbconvert in /usr/local/lib/python3.7/dist-packages (from notebook>=4.4.1->widgetsnbextension~=3.5.0->ipywidgets>=7.0.0->pydeck>=0.1.dev5->streamlit) (5.6.1)\n",
            "Requirement already satisfied: Send2Trash in /usr/local/lib/python3.7/dist-packages (from notebook>=4.4.1->widgetsnbextension~=3.5.0->ipywidgets>=7.0.0->pydeck>=0.1.dev5->streamlit) (1.5.0)\n",
            "Requirement already satisfied: terminado>=0.8.1 in /usr/local/lib/python3.7/dist-packages (from notebook>=4.4.1->widgetsnbextension~=3.5.0->ipywidgets>=7.0.0->pydeck>=0.1.dev5->streamlit) (0.9.3)\n",
            "Requirement already satisfied: bleach in /usr/local/lib/python3.7/dist-packages (from nbconvert->notebook>=4.4.1->widgetsnbextension~=3.5.0->ipywidgets>=7.0.0->pydeck>=0.1.dev5->streamlit) (3.3.0)\n",
            "Requirement already satisfied: defusedxml in /usr/local/lib/python3.7/dist-packages (from nbconvert->notebook>=4.4.1->widgetsnbextension~=3.5.0->ipywidgets>=7.0.0->pydeck>=0.1.dev5->streamlit) (0.7.1)\n",
            "Requirement already satisfied: testpath in /usr/local/lib/python3.7/dist-packages (from nbconvert->notebook>=4.4.1->widgetsnbextension~=3.5.0->ipywidgets>=7.0.0->pydeck>=0.1.dev5->streamlit) (0.4.4)\n",
            "Requirement already satisfied: mistune<2,>=0.8.1 in /usr/local/lib/python3.7/dist-packages (from nbconvert->notebook>=4.4.1->widgetsnbextension~=3.5.0->ipywidgets>=7.0.0->pydeck>=0.1.dev5->streamlit) (0.8.4)\n",
            "Requirement already satisfied: pandocfilters>=1.4.1 in /usr/local/lib/python3.7/dist-packages (from nbconvert->notebook>=4.4.1->widgetsnbextension~=3.5.0->ipywidgets>=7.0.0->pydeck>=0.1.dev5->streamlit) (1.4.3)\n",
            "Requirement already satisfied: webencodings in /usr/local/lib/python3.7/dist-packages (from bleach->nbconvert->notebook>=4.4.1->widgetsnbextension~=3.5.0->ipywidgets>=7.0.0->pydeck>=0.1.dev5->streamlit) (0.5.1)\n",
            "Building wheels for collected packages: blinker\n",
            "  Building wheel for blinker (setup.py) ... \u001b[?25l\u001b[?25hdone\n",
            "  Created wheel for blinker: filename=blinker-1.4-cp37-none-any.whl size=13448 sha256=ad0011015c8eeb9efd3421dea5f6877331d88cb6bea16e1d1ead90ea4e8d1ec1\n",
            "  Stored in directory: /root/.cache/pip/wheels/92/a0/00/8690a57883956a301d91cf4ec999cc0b258b01e3f548f86e89\n",
            "Successfully built blinker\n",
            "\u001b[31mERROR: google-colab 1.0.0 has requirement ipykernel~=4.10, but you'll have ipykernel 5.5.3 which is incompatible.\u001b[0m\n",
            "Installing collected packages: watchdog, base58, validators, blinker, smmap, gitdb, gitpython, ipykernel, pydeck, streamlit\n",
            "  Found existing installation: ipykernel 4.10.1\n",
            "    Uninstalling ipykernel-4.10.1:\n",
            "      Successfully uninstalled ipykernel-4.10.1\n",
            "Successfully installed base58-2.1.0 blinker-1.4 gitdb-4.0.7 gitpython-3.1.14 ipykernel-5.5.3 pydeck-0.6.1 smmap-4.0.0 streamlit-0.80.0 validators-0.18.2 watchdog-2.0.2\n"
          ],
          "name": "stdout"
        },
        {
          "output_type": "display_data",
          "data": {
            "application/vnd.colab-display-data+json": {
              "pip_warning": {
                "packages": [
                  "ipykernel"
                ]
              }
            }
          },
          "metadata": {
            "tags": []
          }
        },
        {
          "output_type": "stream",
          "text": [
            "Collecting pyngrok\n",
            "\u001b[?25l  Downloading https://files.pythonhosted.org/packages/6b/4e/a2fe095bbe17cf26424c4abcd22a0490e22d01cc628f25af5e220ddbf6f0/pyngrok-5.0.5.tar.gz (745kB)\n",
            "\r\u001b[K     |▍                               | 10kB 15.3MB/s eta 0:00:01\r\u001b[K     |▉                               | 20kB 21.7MB/s eta 0:00:01\r\u001b[K     |█▎                              | 30kB 14.4MB/s eta 0:00:01\r\u001b[K     |█▊                              | 40kB 9.5MB/s eta 0:00:01\r\u001b[K     |██▏                             | 51kB 5.4MB/s eta 0:00:01\r\u001b[K     |██▋                             | 61kB 6.1MB/s eta 0:00:01\r\u001b[K     |███                             | 71kB 6.1MB/s eta 0:00:01\r\u001b[K     |███▌                            | 81kB 6.3MB/s eta 0:00:01\r\u001b[K     |████                            | 92kB 6.7MB/s eta 0:00:01\r\u001b[K     |████▍                           | 102kB 6.6MB/s eta 0:00:01\r\u001b[K     |████▉                           | 112kB 6.6MB/s eta 0:00:01\r\u001b[K     |█████▎                          | 122kB 6.6MB/s eta 0:00:01\r\u001b[K     |█████▊                          | 133kB 6.6MB/s eta 0:00:01\r\u001b[K     |██████▏                         | 143kB 6.6MB/s eta 0:00:01\r\u001b[K     |██████▋                         | 153kB 6.6MB/s eta 0:00:01\r\u001b[K     |███████                         | 163kB 6.6MB/s eta 0:00:01\r\u001b[K     |███████▌                        | 174kB 6.6MB/s eta 0:00:01\r\u001b[K     |████████                        | 184kB 6.6MB/s eta 0:00:01\r\u001b[K     |████████▍                       | 194kB 6.6MB/s eta 0:00:01\r\u001b[K     |████████▉                       | 204kB 6.6MB/s eta 0:00:01\r\u001b[K     |█████████▎                      | 215kB 6.6MB/s eta 0:00:01\r\u001b[K     |█████████▊                      | 225kB 6.6MB/s eta 0:00:01\r\u001b[K     |██████████▏                     | 235kB 6.6MB/s eta 0:00:01\r\u001b[K     |██████████▌                     | 245kB 6.6MB/s eta 0:00:01\r\u001b[K     |███████████                     | 256kB 6.6MB/s eta 0:00:01\r\u001b[K     |███████████▍                    | 266kB 6.6MB/s eta 0:00:01\r\u001b[K     |███████████▉                    | 276kB 6.6MB/s eta 0:00:01\r\u001b[K     |████████████▎                   | 286kB 6.6MB/s eta 0:00:01\r\u001b[K     |████████████▊                   | 296kB 6.6MB/s eta 0:00:01\r\u001b[K     |█████████████▏                  | 307kB 6.6MB/s eta 0:00:01\r\u001b[K     |█████████████▋                  | 317kB 6.6MB/s eta 0:00:01\r\u001b[K     |██████████████                  | 327kB 6.6MB/s eta 0:00:01\r\u001b[K     |██████████████▌                 | 337kB 6.6MB/s eta 0:00:01\r\u001b[K     |███████████████                 | 348kB 6.6MB/s eta 0:00:01\r\u001b[K     |███████████████▍                | 358kB 6.6MB/s eta 0:00:01\r\u001b[K     |███████████████▉                | 368kB 6.6MB/s eta 0:00:01\r\u001b[K     |████████████████▎               | 378kB 6.6MB/s eta 0:00:01\r\u001b[K     |████████████████▊               | 389kB 6.6MB/s eta 0:00:01\r\u001b[K     |█████████████████▏              | 399kB 6.6MB/s eta 0:00:01\r\u001b[K     |█████████████████▋              | 409kB 6.6MB/s eta 0:00:01\r\u001b[K     |██████████████████              | 419kB 6.6MB/s eta 0:00:01\r\u001b[K     |██████████████████▌             | 430kB 6.6MB/s eta 0:00:01\r\u001b[K     |███████████████████             | 440kB 6.6MB/s eta 0:00:01\r\u001b[K     |███████████████████▍            | 450kB 6.6MB/s eta 0:00:01\r\u001b[K     |███████████████████▉            | 460kB 6.6MB/s eta 0:00:01\r\u001b[K     |████████████████████▎           | 471kB 6.6MB/s eta 0:00:01\r\u001b[K     |████████████████████▊           | 481kB 6.6MB/s eta 0:00:01\r\u001b[K     |█████████████████████           | 491kB 6.6MB/s eta 0:00:01\r\u001b[K     |█████████████████████▌          | 501kB 6.6MB/s eta 0:00:01\r\u001b[K     |██████████████████████          | 512kB 6.6MB/s eta 0:00:01\r\u001b[K     |██████████████████████▍         | 522kB 6.6MB/s eta 0:00:01\r\u001b[K     |██████████████████████▉         | 532kB 6.6MB/s eta 0:00:01\r\u001b[K     |███████████████████████▎        | 542kB 6.6MB/s eta 0:00:01\r\u001b[K     |███████████████████████▊        | 552kB 6.6MB/s eta 0:00:01\r\u001b[K     |████████████████████████▏       | 563kB 6.6MB/s eta 0:00:01\r\u001b[K     |████████████████████████▋       | 573kB 6.6MB/s eta 0:00:01\r\u001b[K     |█████████████████████████       | 583kB 6.6MB/s eta 0:00:01\r\u001b[K     |█████████████████████████▌      | 593kB 6.6MB/s eta 0:00:01\r\u001b[K     |██████████████████████████      | 604kB 6.6MB/s eta 0:00:01\r\u001b[K     |██████████████████████████▍     | 614kB 6.6MB/s eta 0:00:01\r\u001b[K     |██████████████████████████▉     | 624kB 6.6MB/s eta 0:00:01\r\u001b[K     |███████████████████████████▎    | 634kB 6.6MB/s eta 0:00:01\r\u001b[K     |███████████████████████████▊    | 645kB 6.6MB/s eta 0:00:01\r\u001b[K     |████████████████████████████▏   | 655kB 6.6MB/s eta 0:00:01\r\u001b[K     |████████████████████████████▋   | 665kB 6.6MB/s eta 0:00:01\r\u001b[K     |█████████████████████████████   | 675kB 6.6MB/s eta 0:00:01\r\u001b[K     |█████████████████████████████▌  | 686kB 6.6MB/s eta 0:00:01\r\u001b[K     |██████████████████████████████  | 696kB 6.6MB/s eta 0:00:01\r\u001b[K     |██████████████████████████████▍ | 706kB 6.6MB/s eta 0:00:01\r\u001b[K     |██████████████████████████████▉ | 716kB 6.6MB/s eta 0:00:01\r\u001b[K     |███████████████████████████████▏| 727kB 6.6MB/s eta 0:00:01\r\u001b[K     |███████████████████████████████▋| 737kB 6.6MB/s eta 0:00:01\r\u001b[K     |████████████████████████████████| 747kB 6.6MB/s \n",
            "\u001b[?25hRequirement already satisfied: PyYAML in /usr/local/lib/python3.7/dist-packages (from pyngrok) (3.13)\n",
            "Building wheels for collected packages: pyngrok\n",
            "  Building wheel for pyngrok (setup.py) ... \u001b[?25l\u001b[?25hdone\n",
            "  Created wheel for pyngrok: filename=pyngrok-5.0.5-cp37-none-any.whl size=19246 sha256=185377fc3da8248a28374d618d75ea6844a0a93c0f43ee94399d9b285bcae8ef\n",
            "  Stored in directory: /root/.cache/pip/wheels/0c/13/64/5ebbcc22eaf53fdf5766b397c1fb17c83f5775fdccf0ea1b88\n",
            "Successfully built pyngrok\n",
            "Installing collected packages: pyngrok\n",
            "Successfully installed pyngrok-5.0.5\n"
          ],
          "name": "stdout"
        }
      ]
    },
    {
      "cell_type": "code",
      "metadata": {
        "colab": {
          "base_uri": "https://localhost:8080/"
        },
        "id": "T0d0cTH5K69s",
        "outputId": "cd0f8bda-150d-4c58-e79f-1b80cea601dd"
      },
      "source": [
        "\n",
        "%%writefile app.py \n",
        "\n",
        "import numpy as np\n",
        "import streamlit as st\n",
        "\n",
        "W1 = np.load('/content/W1_momt.npy')\n",
        "W2 = np.load('/content/W2_momt.npy')\n",
        "W3 =  np.load('/content/W_momt.npy')\n",
        "\n",
        "\n",
        "\n",
        "def sigmoid(z):\n",
        "    '''In this function, we will compute the sigmoid(z)'''\n",
        "    # we can use this function in forward and backward propagation\n",
        "\n",
        "    return (1/(1+np.exp(-z)))\n",
        "\n",
        "def predict_flux(X,W1,W2):\n",
        "    X1= np.log(X)\n",
        "    z11,z12,z13 = np.dot(np.transpose(W1),X1.reshape(-1,1))\n",
        "    o11 = sigmoid(z11)\n",
        "    o12 = sigmoid(z12)\n",
        "    o13 = sigmoid(z13)\n",
        "    y_hat = o11*W2[0] + o12*W2[1] + o13*W2[2]\n",
        "\n",
        "    return np.exp(y_hat[0])\n",
        "\n",
        "\n",
        "def perceptron_predict_flux(X,W):\n",
        "    X1 = np.log(X)\n",
        "    y_hat = np.dot(np.transpose(W),X1.reshape(-1,1))\n",
        "    return np.exp(y_hat[0])\n",
        "\n",
        "def main():\n",
        "    st.title(\"FLUX Prediction\")\n",
        "    html_temp = \"\"\"\n",
        "    <div style=\"background-color:tomato;padding:10px\">\n",
        "    <h2 style=\"color:white;text-align:center;\">Streamlit FLUX Prediction ANN  </h2>\n",
        "    </div>\n",
        "    \"\"\"\n",
        "    st.markdown(html_temp,unsafe_allow_html=True)\n",
        "    FT = st.number_input(\"FT :\")\n",
        "    FFR = st.number_input(\"FFR :\")\n",
        "    CFR = st.number_input(\"CFR :\")\n",
        "    N = st.number_input(\"N :\")\n",
        "    W = st.number_input(\"W :\")\n",
        "    L = st.number_input(\"L :\")\n",
        "\n",
        "    X = np.array([FT,FFR,CFR,N,W,L])\n",
        "    ann = [\"Perceptron\", \"Multilayer Perceptron\"]\n",
        "    opt = st.radio('Select Type of ANN',ann)\n",
        "\n",
        "    result=\"\"\n",
        "\n",
        "    if opt == 'Perceptron':\n",
        "      if st.button(\"Predict\"):\n",
        "        result = perceptron_predict_flux(X,W3)\n",
        "        #print(result)\n",
        "      st.success('The FLUX is : {}'.format(result))\n",
        "\n",
        "    if opt == 'Multilayer Perceptron':\n",
        "      if st.button(\"Predict\"):\n",
        "        result = predict_flux(X,W1,W2)\n",
        "      st.success('The FLUX is : {}'.format(result))\n",
        "    \n",
        "\n",
        "\n",
        "\n",
        "if __name__=='__main__':\n",
        "    main()"
      ],
      "execution_count": 97,
      "outputs": [
        {
          "output_type": "stream",
          "text": [
            "Overwriting app.py\n"
          ],
          "name": "stdout"
        }
      ]
    },
    {
      "cell_type": "code",
      "metadata": {
        "colab": {
          "base_uri": "https://localhost:8080/"
        },
        "id": "5RGgOImDIDWH",
        "outputId": "1e8c14ab-a2c8-4cb5-9f51-8fff212a3f22"
      },
      "source": [
        "from pyngrok import ngrok\n",
        "#connecting to port = 80\n",
        "public_url = ngrok.connect(port=80)\n",
        "print (public_url)"
      ],
      "execution_count": 98,
      "outputs": [
        {
          "output_type": "stream",
          "text": [
            "NgrokTunnel: \"http://2e8c5c8c12b7.ngrok.io\" -> \"http://localhost:80\"\n"
          ],
          "name": "stdout"
        }
      ]
    },
    {
      "cell_type": "code",
      "metadata": {
        "colab": {
          "base_uri": "https://localhost:8080/"
        },
        "id": "7wRCaMZCITEV",
        "outputId": "c23d2e62-fd51-4fdf-c7b9-4ee47c45399e"
      },
      "source": [
        "!export STREAMLIT_SERVER_PORT=80\n",
        "#running Script using streamlit:\n",
        "!streamlit run app.py --server.port 80"
      ],
      "execution_count": 99,
      "outputs": [
        {
          "output_type": "stream",
          "text": [
            "2021-04-09 08:02:11.843 An update to the [server] config option section was detected. To have these changes be reflected, please restart streamlit.\n",
            "\u001b[0m\n",
            "\u001b[34m\u001b[1m  You can now view your Streamlit app in your browser.\u001b[0m\n",
            "\u001b[0m\n",
            "\u001b[34m  Network URL: \u001b[0m\u001b[1mhttp://172.28.0.2:80\u001b[0m\n",
            "\u001b[34m  External URL: \u001b[0m\u001b[1mhttp://35.223.111.253:80\u001b[0m\n",
            "\u001b[0m\n",
            "\u001b[34m  Stopping...\u001b[0m\n"
          ],
          "name": "stdout"
        }
      ]
    },
    {
      "cell_type": "code",
      "metadata": {
        "id": "4iWffuNtptCn"
      },
      "source": [
        ""
      ],
      "execution_count": null,
      "outputs": []
    }
  ]
}