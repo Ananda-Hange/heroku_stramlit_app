{
  "nbformat": 4,
  "nbformat_minor": 0,
  "metadata": {
    "colab": {
      "name": "MLP_abhi.ipynb",
      "provenance": [],
      "collapsed_sections": []
    },
    "kernelspec": {
      "name": "python3",
      "display_name": "Python 3"
    },
    "language_info": {
      "name": "python"
    }
  },
  "cells": [
    {
      "cell_type": "code",
      "metadata": {
        "id": "JeeDalpfpBD4"
      },
      "source": [
        "import pandas as pd\n",
        "import numpy as np\n",
        "import matplotlib.pyplot as plt\n",
        "import math\n",
        "from sklearn.model_selection import train_test_split"
      ],
      "execution_count": 5,
      "outputs": []
    },
    {
      "cell_type": "code",
      "metadata": {
        "colab": {
          "base_uri": "https://localhost:8080/",
          "height": 204
        },
        "id": "3jUuzDj9pRqd",
        "outputId": "54e92982-3f3f-4313-b237-f30370793a87"
      },
      "source": [
        "data = pd.read_csv('data1.csv')\n",
        "data.head()"
      ],
      "execution_count": 7,
      "outputs": [
        {
          "output_type": "execute_result",
          "data": {
            "text/html": [
              "<div>\n",
              "<style scoped>\n",
              "    .dataframe tbody tr th:only-of-type {\n",
              "        vertical-align: middle;\n",
              "    }\n",
              "\n",
              "    .dataframe tbody tr th {\n",
              "        vertical-align: top;\n",
              "    }\n",
              "\n",
              "    .dataframe thead th {\n",
              "        text-align: right;\n",
              "    }\n",
              "</style>\n",
              "<table border=\"1\" class=\"dataframe\">\n",
              "  <thead>\n",
              "    <tr style=\"text-align: right;\">\n",
              "      <th></th>\n",
              "      <th>X1</th>\n",
              "      <th>X2</th>\n",
              "      <th>X3</th>\n",
              "      <th>X4</th>\n",
              "      <th>X5</th>\n",
              "      <th>X6</th>\n",
              "      <th>Target</th>\n",
              "    </tr>\n",
              "  </thead>\n",
              "  <tbody>\n",
              "    <tr>\n",
              "      <th>0</th>\n",
              "      <td>75.0</td>\n",
              "      <td>1</td>\n",
              "      <td>1.0</td>\n",
              "      <td>1</td>\n",
              "      <td>5</td>\n",
              "      <td>170.0</td>\n",
              "      <td>6.00</td>\n",
              "    </tr>\n",
              "    <tr>\n",
              "      <th>1</th>\n",
              "      <td>75.0</td>\n",
              "      <td>3</td>\n",
              "      <td>3.0</td>\n",
              "      <td>1</td>\n",
              "      <td>5</td>\n",
              "      <td>170.0</td>\n",
              "      <td>10.60</td>\n",
              "    </tr>\n",
              "    <tr>\n",
              "      <th>2</th>\n",
              "      <td>45.0</td>\n",
              "      <td>1</td>\n",
              "      <td>1.0</td>\n",
              "      <td>1</td>\n",
              "      <td>5</td>\n",
              "      <td>370.0</td>\n",
              "      <td>0.50</td>\n",
              "    </tr>\n",
              "    <tr>\n",
              "      <th>3</th>\n",
              "      <td>75.0</td>\n",
              "      <td>1</td>\n",
              "      <td>1.0</td>\n",
              "      <td>35</td>\n",
              "      <td>5</td>\n",
              "      <td>370.0</td>\n",
              "      <td>11.38</td>\n",
              "    </tr>\n",
              "    <tr>\n",
              "      <th>4</th>\n",
              "      <td>75.0</td>\n",
              "      <td>1</td>\n",
              "      <td>3.0</td>\n",
              "      <td>1</td>\n",
              "      <td>1</td>\n",
              "      <td>370.0</td>\n",
              "      <td>8.50</td>\n",
              "    </tr>\n",
              "  </tbody>\n",
              "</table>\n",
              "</div>"
            ],
            "text/plain": [
              "     X1  X2   X3  X4  X5     X6  Target\n",
              "0  75.0   1  1.0   1   5  170.0    6.00\n",
              "1  75.0   3  3.0   1   5  170.0   10.60\n",
              "2  45.0   1  1.0   1   5  370.0    0.50\n",
              "3  75.0   1  1.0  35   5  370.0   11.38\n",
              "4  75.0   1  3.0   1   1  370.0    8.50"
            ]
          },
          "metadata": {
            "tags": []
          },
          "execution_count": 7
        }
      ]
    },
    {
      "cell_type": "code",
      "metadata": {
        "colab": {
          "base_uri": "https://localhost:8080/"
        },
        "id": "tpnaj-PlpYkd",
        "outputId": "1e34e9d3-88e4-4f7e-86dc-56cee457d673"
      },
      "source": [
        "data.shape"
      ],
      "execution_count": 8,
      "outputs": [
        {
          "output_type": "execute_result",
          "data": {
            "text/plain": [
              "(87, 7)"
            ]
          },
          "metadata": {
            "tags": []
          },
          "execution_count": 8
        }
      ]
    },
    {
      "cell_type": "code",
      "metadata": {
        "colab": {
          "base_uri": "https://localhost:8080/",
          "height": 297
        },
        "id": "JYXB6FI6-eE-",
        "outputId": "eb72f00f-1422-4c91-ca1c-acd41184accf"
      },
      "source": [
        "data.describe()"
      ],
      "execution_count": 9,
      "outputs": [
        {
          "output_type": "execute_result",
          "data": {
            "text/html": [
              "<div>\n",
              "<style scoped>\n",
              "    .dataframe tbody tr th:only-of-type {\n",
              "        vertical-align: middle;\n",
              "    }\n",
              "\n",
              "    .dataframe tbody tr th {\n",
              "        vertical-align: top;\n",
              "    }\n",
              "\n",
              "    .dataframe thead th {\n",
              "        text-align: right;\n",
              "    }\n",
              "</style>\n",
              "<table border=\"1\" class=\"dataframe\">\n",
              "  <thead>\n",
              "    <tr style=\"text-align: right;\">\n",
              "      <th></th>\n",
              "      <th>X1</th>\n",
              "      <th>X2</th>\n",
              "      <th>X3</th>\n",
              "      <th>X4</th>\n",
              "      <th>X5</th>\n",
              "      <th>X6</th>\n",
              "      <th>Target</th>\n",
              "    </tr>\n",
              "  </thead>\n",
              "  <tbody>\n",
              "    <tr>\n",
              "      <th>count</th>\n",
              "      <td>87.000000</td>\n",
              "      <td>87.000000</td>\n",
              "      <td>87.000000</td>\n",
              "      <td>87.000000</td>\n",
              "      <td>87.000000</td>\n",
              "      <td>87.000000</td>\n",
              "      <td>87.000000</td>\n",
              "    </tr>\n",
              "    <tr>\n",
              "      <th>mean</th>\n",
              "      <td>61.349729</td>\n",
              "      <td>2.022989</td>\n",
              "      <td>2.021016</td>\n",
              "      <td>18.839080</td>\n",
              "      <td>3.022989</td>\n",
              "      <td>269.917847</td>\n",
              "      <td>7.106322</td>\n",
              "    </tr>\n",
              "    <tr>\n",
              "      <th>std</th>\n",
              "      <td>14.251277</td>\n",
              "      <td>0.927324</td>\n",
              "      <td>0.921081</td>\n",
              "      <td>15.620405</td>\n",
              "      <td>1.791303</td>\n",
              "      <td>95.356144</td>\n",
              "      <td>5.794087</td>\n",
              "    </tr>\n",
              "    <tr>\n",
              "      <th>min</th>\n",
              "      <td>30.000000</td>\n",
              "      <td>1.000000</td>\n",
              "      <td>1.000000</td>\n",
              "      <td>1.000000</td>\n",
              "      <td>1.000000</td>\n",
              "      <td>0.010000</td>\n",
              "      <td>0.010000</td>\n",
              "    </tr>\n",
              "    <tr>\n",
              "      <th>25%</th>\n",
              "      <td>45.000000</td>\n",
              "      <td>1.000000</td>\n",
              "      <td>1.000000</td>\n",
              "      <td>1.000000</td>\n",
              "      <td>1.000000</td>\n",
              "      <td>170.000000</td>\n",
              "      <td>1.740000</td>\n",
              "    </tr>\n",
              "    <tr>\n",
              "      <th>50%</th>\n",
              "      <td>65.000000</td>\n",
              "      <td>2.000000</td>\n",
              "      <td>2.000000</td>\n",
              "      <td>20.000000</td>\n",
              "      <td>3.000000</td>\n",
              "      <td>270.000000</td>\n",
              "      <td>7.300000</td>\n",
              "    </tr>\n",
              "    <tr>\n",
              "      <th>75%</th>\n",
              "      <td>75.000000</td>\n",
              "      <td>3.000000</td>\n",
              "      <td>3.000000</td>\n",
              "      <td>35.000000</td>\n",
              "      <td>5.000000</td>\n",
              "      <td>370.000000</td>\n",
              "      <td>10.050000</td>\n",
              "    </tr>\n",
              "    <tr>\n",
              "      <th>max</th>\n",
              "      <td>102.426407</td>\n",
              "      <td>5.000000</td>\n",
              "      <td>4.828427</td>\n",
              "      <td>65.000000</td>\n",
              "      <td>7.000000</td>\n",
              "      <td>532.842712</td>\n",
              "      <td>26.300000</td>\n",
              "    </tr>\n",
              "  </tbody>\n",
              "</table>\n",
              "</div>"
            ],
            "text/plain": [
              "               X1         X2         X3  ...         X5          X6     Target\n",
              "count   87.000000  87.000000  87.000000  ...  87.000000   87.000000  87.000000\n",
              "mean    61.349729   2.022989   2.021016  ...   3.022989  269.917847   7.106322\n",
              "std     14.251277   0.927324   0.921081  ...   1.791303   95.356144   5.794087\n",
              "min     30.000000   1.000000   1.000000  ...   1.000000    0.010000   0.010000\n",
              "25%     45.000000   1.000000   1.000000  ...   1.000000  170.000000   1.740000\n",
              "50%     65.000000   2.000000   2.000000  ...   3.000000  270.000000   7.300000\n",
              "75%     75.000000   3.000000   3.000000  ...   5.000000  370.000000  10.050000\n",
              "max    102.426407   5.000000   4.828427  ...   7.000000  532.842712  26.300000\n",
              "\n",
              "[8 rows x 7 columns]"
            ]
          },
          "metadata": {
            "tags": []
          },
          "execution_count": 9
        }
      ]
    },
    {
      "cell_type": "code",
      "metadata": {
        "id": "QjmONvVEpcZt"
      },
      "source": [
        "X1 = data[['X1','X2','X3','X4','X5','X6']]\n",
        "X1 = np.array(X1)\n",
        "\n",
        "X1 = np.log(X1)\n",
        "\n",
        "y1 = data['Target']\n",
        "y1 = np.log(y1)"
      ],
      "execution_count": 10,
      "outputs": []
    },
    {
      "cell_type": "code",
      "metadata": {
        "colab": {
          "base_uri": "https://localhost:8080/"
        },
        "id": "gFdUFm_ju9lW",
        "outputId": "4824ee18-2f61-4992-e676-7675a6893c46"
      },
      "source": [
        "X_train, X_test, y_train, y_test = train_test_split(X1, y1, test_size=0.15, random_state=42)\n",
        "\n",
        "\n",
        "y_train = np.array(y_train)\n",
        "y_test = np.array(y_test)\n",
        "print(X_train.shape)\n",
        "print(X_test.shape)"
      ],
      "execution_count": 11,
      "outputs": [
        {
          "output_type": "stream",
          "text": [
            "(73, 6)\n",
            "(14, 6)\n"
          ],
          "name": "stdout"
        }
      ]
    },
    {
      "cell_type": "markdown",
      "metadata": {
        "id": "eqwPOOYv1k9F"
      },
      "source": [
        "# Perceptron"
      ]
    },
    {
      "cell_type": "code",
      "metadata": {
        "id": "LPV626GVu-c-"
      },
      "source": [
        "def forward_prop(X,y,w):\n",
        "        \n",
        "    y_hat = np.dot(w,X)\n",
        "    \n",
        "    \n",
        "    L = (y_hat-y)**2\n",
        "    \n",
        "    dL = 2*(y_hat-y)\n",
        "    \n",
        "    dict = {\n",
        "        'dL' : dL,\n",
        "        'y_hat' : y_hat,\n",
        "        'loss' : L\n",
        "    }\n",
        "    \n",
        "    return dict\n",
        "\n",
        "    "
      ],
      "execution_count": 12,
      "outputs": []
    },
    {
      "cell_type": "code",
      "metadata": {
        "id": "aA526RC-vCjh"
      },
      "source": [
        "def back_prop(X,w,dict):\n",
        "    #X[0]=P1,X[1]=P2,X[2]=P3,X[3]=P4,X[4]=P5,X[5]=P6\n",
        "    \n",
        "    z = dict['dL']\n",
        "    \n",
        "    da = z * X[0]\n",
        "    db = z * X[1]\n",
        "    dc = z * X[2]\n",
        "    dd = z * X[3]\n",
        "    de = z * X[4]\n",
        "    df = z * X[5]\n",
        "    \n",
        "    dict_d = {\n",
        "        'da':da,\n",
        "        'db':db,\n",
        "        'dc':dc,\n",
        "        'dd':dd,\n",
        "        'de':de,\n",
        "        'df':df\n",
        "\n",
        "    }\n",
        "      \n",
        "    return dict_d    "
      ],
      "execution_count": 13,
      "outputs": []
    },
    {
      "cell_type": "code",
      "metadata": {
        "colab": {
          "base_uri": "https://localhost:8080/"
        },
        "id": "wPv-fW9mvFfT",
        "outputId": "650282ac-4b78-4222-cfa9-462c65ff35a4"
      },
      "source": [
        "#test purpose\n",
        "W =np.ones(6)*0.1\n",
        "\n",
        "dict = forward_prop(X_train[0], y_train[0],W)\n",
        "print(dict)\n",
        "\n",
        "print(back_prop(X_train[0],W,dict))"
      ],
      "execution_count": 14,
      "outputs": [
        {
          "output_type": "stream",
          "text": [
            "{'dL': -2.2621431817054667, 'y_hat': 1.7593001670434312, 'loss': 1.2793229436341331}\n",
            "{'da': -9.766776298130562, 'db': -2.4852182981484026, 'dc': -2.4852182981484026, 'dd': -8.042706375888026, 'de': -3.64077899999108, 'df': -13.377190504199396}\n"
          ],
          "name": "stdout"
        }
      ]
    },
    {
      "cell_type": "code",
      "metadata": {
        "colab": {
          "base_uri": "https://localhost:8080/"
        },
        "id": "oiJ9xTfevJO7",
        "outputId": "047c9923-9acd-46c0-f28a-f3ada751c5f9"
      },
      "source": [
        "W = np.random.normal(loc=1, scale=1, size=6) \n",
        "#weight initialization(gaussian) with mean=1 and std = 1\n",
        "epoch = 5000\n",
        "learning_rate = 0.001\n",
        "loss_sgd_tr = []\n",
        "loss_sgd_te = []\n",
        "epochs = []\n",
        "\n",
        "\n",
        "for i in range (epoch):\n",
        "    #for each epoch\n",
        "    loss = 0\n",
        "    loss1 = 0\n",
        "    for j in range(len(X_train)):\n",
        "      #for each data point in dataset\n",
        "        forward = forward_prop(X_train[j],y_train[j],W)\n",
        "        #forward pass and get loss\n",
        "        loss += forward['loss']\n",
        "      \n",
        "      #back pass\n",
        "        backward = back_prop(X_train[j],W,forward)\n",
        "        #getting gradient matrix\n",
        "        dw = list(backward.values())\n",
        "        #weight update\n",
        "        W = W - (learning_rate * np.array(dw))\n",
        "    \n",
        "    for k in range(len(X_test)):\n",
        "        forward = forward_prop(X_test[k],y_test[k],W)\n",
        "        loss1 += forward['loss']\n",
        "\n",
        "    loss_sgd_tr.append(loss/len(X_train))\n",
        "    loss_sgd_te.append(loss/len(X_test))\n",
        "    epochs.append(i)\n",
        "\n",
        "print('Train loss at the end of {} epoch is : {}'.format(epoch,loss_sgd_tr[-1]))\n",
        "print('Test loss at the end of {} epoch is : {}'.format(epoch,loss_sgd_te[-1]))\n"
      ],
      "execution_count": 15,
      "outputs": [
        {
          "output_type": "stream",
          "text": [
            "Train loss at the end of 5000 epoch is : 1.9211520591803646\n",
            "Test loss at the end of 5000 epoch is : 10.017435737154758\n"
          ],
          "name": "stdout"
        }
      ]
    },
    {
      "cell_type": "code",
      "metadata": {
        "colab": {
          "base_uri": "https://localhost:8080/",
          "height": 295
        },
        "id": "Hdz8ah6MwYJQ",
        "outputId": "26bff04e-500a-4a42-e098-6353ce9363c2"
      },
      "source": [
        "plt.plot(epochs,loss_sgd_tr,label = 'train loss')\n",
        "plt.plot(epochs,loss_sgd_te,label = 'test loss')\n",
        "plt.legend()\n",
        "plt.xlabel(\"epochs\")\n",
        "plt.ylabel(\"loss\")\n",
        "plt.title(\"epochs Vs loss\")\n",
        "plt.grid()\n",
        "plt.show()"
      ],
      "execution_count": 16,
      "outputs": [
        {
          "output_type": "display_data",
          "data": {
            "image/png": "[encoded data removed]",
            "text/plain": [
              "<Figure size 432x288 with 1 Axes>"
            ]
          },
          "metadata": {
            "tags": [],
            "needs_background": "light"
          }
        }
      ]
    },
    {
      "cell_type": "code",
      "metadata": {
        "colab": {
          "base_uri": "https://localhost:8080/"
        },
        "id": "XrVn157BO_LD",
        "outputId": "8bc95718-7183-443c-edda-3964299c0466"
      },
      "source": [
        "W"
      ],
      "execution_count": 17,
      "outputs": [
        {
          "output_type": "execute_result",
          "data": {
            "text/plain": [
              "array([ 0.62987159, -0.14663387,  0.32099864,  0.0463321 ,  0.40955925,\n",
              "       -0.30065567])"
            ]
          },
          "metadata": {
            "tags": []
          },
          "execution_count": 17
        }
      ]
    },
    {
      "cell_type": "markdown",
      "metadata": {
        "id": "Wjk-U95jDZim"
      },
      "source": [
        "# Momentum"
      ]
    },
    {
      "cell_type": "code",
      "metadata": {
        "colab": {
          "base_uri": "https://localhost:8080/"
        },
        "id": "wNBYBebwxaDa",
        "outputId": "1a500358-2804-454b-c867-319fe54e164c"
      },
      "source": [
        "W = np.random.normal(loc=0.1, scale=0.1, size=6) \n",
        "#W and vdw initialization with same size\n",
        "vdw = np.zeros(6)\n",
        "epoch = 5000\n",
        "learning_rate = 0.001\n",
        "loss_momt_tr = []\n",
        "loss_momt_te = []\n",
        "epochs = []\n",
        "beta = 0.5\n",
        "\n",
        "\n",
        "for i in range (epoch):\n",
        "\n",
        "    loss = 0\n",
        "    loss1 = 0\n",
        "    for j in range(len(X_train)):\n",
        "      #forward pass:\n",
        "        forward = forward_prop(X_train[j],y_train[j],W)\n",
        "        loss += forward['loss']\n",
        "    \n",
        "        #back pass:\n",
        "        backward = back_prop(X_train[j],W,forward)\n",
        "        dw = list(backward.values())\n",
        "        vdw = (beta * vdw) + ((1-beta)*np.array(dw))\n",
        "        W = W - (learning_rate *vdw)\n",
        "        \n",
        "    for k in range(len(X_test)):\n",
        "        forward = forward_prop(X_test[k],y_test[k],W)\n",
        "        loss1 += forward['loss']\n",
        "\n",
        "    loss_momt_tr.append(loss/len(X_train))\n",
        "    loss_momt_te.append(loss/len(X_test))\n",
        "    epochs.append(i)\n",
        "\n",
        "print('Train loss at the end of {} epoch is : {}'.format(epoch,loss_momt_tr[-1]))\n",
        "print('Test loss at the end of {} epoch is : {}'.format(epoch,loss_momt_te[-1]))\n"
      ],
      "execution_count": 18,
      "outputs": [
        {
          "output_type": "stream",
          "text": [
            "Train loss at the end of 5000 epoch is : 1.9375140436752143\n",
            "Test loss at the end of 5000 epoch is : 10.102751799163617\n"
          ],
          "name": "stdout"
        }
      ]
    },
    {
      "cell_type": "code",
      "metadata": {
        "colab": {
          "base_uri": "https://localhost:8080/",
          "height": 295
        },
        "id": "VnljiqT4EMOi",
        "outputId": "d7ed8783-1323-4409-b420-277bf858f8b8"
      },
      "source": [
        "plt.plot(epochs,loss_momt_tr,label = 'Train loss')\n",
        "plt.plot(epochs,loss_momt_te,label = 'Test loss')\n",
        "\n",
        "plt.legend()\n",
        "plt.xlabel(\"epochs\")\n",
        "plt.ylabel(\"loss\")\n",
        "plt.title(\"epochs Vs loss\")\n",
        "plt.grid()\n",
        "plt.show()\n"
      ],
      "execution_count": 19,
      "outputs": [
        {
          "output_type": "display_data",
          "data": {
            "image/png": "[encoded data removed]",
            "text/plain": [
              "<Figure size 432x288 with 1 Axes>"
            ]
          },
          "metadata": {
            "tags": [],
            "needs_background": "light"
          }
        }
      ]
    },
    {
      "cell_type": "code",
      "metadata": {
        "colab": {
          "base_uri": "https://localhost:8080/"
        },
        "id": "W08WXUbCPEXD",
        "outputId": "7859ff7e-56e9-41c7-e297-2c5421a600ff"
      },
      "source": [
        "W"
      ],
      "execution_count": 20,
      "outputs": [
        {
          "output_type": "execute_result",
          "data": {
            "text/plain": [
              "array([ 0.62301614, -0.16297852,  0.32600203,  0.03942831,  0.39786653,\n",
              "       -0.31072881])"
            ]
          },
          "metadata": {
            "tags": []
          },
          "execution_count": 20
        }
      ]
    },
    {
      "cell_type": "code",
      "metadata": {
        "id": "gag8PSWUIerD"
      },
      "source": [
        "np.save('W_momt.npy', W)"
      ],
      "execution_count": 21,
      "outputs": []
    },
    {
      "cell_type": "markdown",
      "metadata": {
        "id": "loMhSi3OJYWm"
      },
      "source": [
        "## adam"
      ]
    },
    {
      "cell_type": "code",
      "metadata": {
        "colab": {
          "base_uri": "https://localhost:8080/"
        },
        "id": "HbzbJEnVJaFh",
        "outputId": "fad2372e-c15f-4db1-aea8-2f1a6e3fee94"
      },
      "source": [
        "W = np.random.normal(loc=0.1, scale=0.1, size=6) \n",
        "vdw = np.zeros(6)\n",
        "sdw = np.zeros(6)\n",
        "epoch = 500\n",
        "learning_rate = 0.0001\n",
        "epochs = []\n",
        "beta1 = 0.9\n",
        "beta2 = 0.99\n",
        "eps = 0.000001\n",
        "\n",
        "loss_adam_tr = []\n",
        "loss_adam_te = []\n",
        "\n",
        "for i in range (epoch):\n",
        "  loss = 0\n",
        "  loss1 = 0\n",
        "  \n",
        "  for j in range (len(X_train)):\n",
        "\n",
        "    forward = forward_prop(X_train[j],y_train[j],W)\n",
        "    loss = forward['loss']\n",
        "    backward = back_prop(X_train[j],W,forward)\n",
        "    \n",
        "    dw = list(backward.values())\n",
        "    vdw = (beta1 * vdw) + ((1-beta1) * np.array(dw))\n",
        "    sdw = (beta2 * sdw) + ((1-beta2)* np.array(dw)**2)\n",
        "   \n",
        "    v_hat = vdw / (1-beta1**(j+1))\n",
        "    s_hat = sdw / (1-beta2**(j+1))\n",
        " \n",
        "    W = W - ((learning_rate* v_hat)/((s_hat)**0.5 + eps))\n",
        "\n",
        "    for k in range(len(X_test)):\n",
        "      forward = forward_prop(X_test[k],y_test[k],W)\n",
        "      loss1 += forward['loss']\n",
        "    \n",
        "    \n",
        "  loss_adam_tr.append(loss/len(X_train))\n",
        "  loss_adam_te.append(loss1/len(X_test))\n",
        "  epochs.append(i)\n",
        "  #print(loss_adam)\n",
        "\n",
        "print('Train loss at the end of {} epoch is : {}'.format(epoch,loss_adam_tr[-1]))\n",
        "print('Test loss at the end of {} epoch is : {}'.format(epoch,loss_adam_te[-1]))\n",
        "\n",
        "\n"
      ],
      "execution_count": 22,
      "outputs": [
        {
          "output_type": "stream",
          "text": [
            "Train loss at the end of 500 epoch is : 0.020839171873052585\n",
            "Test loss at the end of 500 epoch is : 159.06649279022227\n"
          ],
          "name": "stdout"
        }
      ]
    },
    {
      "cell_type": "code",
      "metadata": {
        "colab": {
          "base_uri": "https://localhost:8080/",
          "height": 295
        },
        "id": "hO4enLI3Ku9h",
        "outputId": "f0fca334-91d0-4b43-da69-551b883ca158"
      },
      "source": [
        "plt.plot(epochs,loss_adam_tr,label = 'Train loss')\n",
        "plt.plot(epochs,loss_adam_te,label = 'Test loss')\n",
        "\n",
        "plt.legend()\n",
        "plt.xlabel(\"epochs\")\n",
        "plt.ylabel(\"loss\")\n",
        "plt.title(\"epochs Vs loss\")\n",
        "plt.grid()\n",
        "plt.show()\n"
      ],
      "execution_count": 23,
      "outputs": [
        {
          "output_type": "display_data",
          "data": {
            "image/png": "[encoded data removed]",
            "text/plain": [
              "<Figure size 432x288 with 1 Axes>"
            ]
          },
          "metadata": {
            "tags": [],
            "needs_background": "light"
          }
        }
      ]
    },
    {
      "cell_type": "markdown",
      "metadata": {
        "id": "8ZfI-rHOxt5Z"
      },
      "source": [
        "# MLP"
      ]
    },
    {
      "cell_type": "code",
      "metadata": {
        "id": "CwuO04E6xxks"
      },
      "source": [
        "def sigmoid(z):\n",
        "    '''In this function, we will compute the sigmoid(z)'''\n",
        "    # we can use this function in forward and backward propagation\n",
        "\n",
        "    return (1/(1+np.exp(-z)))\n",
        "\n",
        "def forward_prop1(X,y,W1,W2):\n",
        "    \n",
        "    \n",
        "    z11,z12,z13 = np.dot(np.transpose(W1),X.reshape(-1,1))\n",
        "    \n",
        "    o11 = sigmoid(z11)\n",
        "    o12 = sigmoid(z12)\n",
        "    o13 = sigmoid(z13)\n",
        "    \n",
        "    \n",
        "    y_hat = o11*W2[0] + o12*W2[1] + o13*W2[2]\n",
        "    \n",
        "    L = (y-y_hat)**2\n",
        "    \n",
        "    dL = -2*(y-y_hat)\n",
        "    \n",
        "    dict = {\n",
        "        'dL' : dL,\n",
        "        'y_hat' : y_hat,\n",
        "        'loss' : L,\n",
        "        'o11' : o11,\n",
        "        'o12' : o12,\n",
        "        'o13' : o13\n",
        "    }\n",
        "    \n",
        "    return dict"
      ],
      "execution_count": 24,
      "outputs": []
    },
    {
      "cell_type": "code",
      "metadata": {
        "id": "L7uKZ-kNx46H"
      },
      "source": [
        "def back_prop1(X,W1,W2,dict):\n",
        "    \n",
        "    w1 = []\n",
        "    w2 = []\n",
        "    w3 = []\n",
        "    \n",
        "    dW112 = dict['dL'] * dict['o11']\n",
        "    dW212 = dict['dL'] * dict['o12']\n",
        "    dW312 = dict['dL'] * dict['o13']\n",
        "    \n",
        "    a = dict['dL'] * W2[0] * dict['o11'] * (1 - dict['o11'])\n",
        "    b = dict['dL'] * W2[1] * dict['o12'] * (1 - dict['o12'])\n",
        "    c = dict['dL'] * W2[2] * dict['o13'] * (1 - dict['o13'])\n",
        "\n",
        "        \n",
        "    for i in range(len(X)):\n",
        "        w1.append(a[0] * X[i])\n",
        "        w2.append(b[0] * X[i])\n",
        "        w3.append(c[0] * X[i])\n",
        "        \n",
        "    w1 = np.array(w1).reshape(-1,1)\n",
        "    w2 = np.array(w2).reshape(-1,1)\n",
        "    w3 = np.array(w3).reshape(-1,1)\n",
        "    \n",
        "    w11= np.hstack((w1,w2,w3))\n",
        "    \n",
        "    w22 = np.array([dW112,dW212,dW312]).reshape(-1,1)\n",
        "    \n",
        "    return w11 , w22\n",
        "    \n",
        "    "
      ],
      "execution_count": 25,
      "outputs": []
    },
    {
      "cell_type": "code",
      "metadata": {
        "colab": {
          "base_uri": "https://localhost:8080/"
        },
        "id": "dqIjzsMDx54t",
        "outputId": "34269dd7-71f9-4f7e-d8f0-69780273b47c"
      },
      "source": [
        "W1 = np.random.normal(0.1,0.2, size=(6,3))\n",
        "W2 = np.random.normal(0.1,0.2, size=(3,1))\n",
        "epoch = 2500\n",
        "learning_rate = 0.001\n",
        "loss_sgd_tr = []\n",
        "loss_sgd_te = []\n",
        "epochs = []\n",
        "\n",
        "\n",
        "for i in range (epoch):\n",
        "\n",
        "    loss = 0\n",
        "    loss1 = 0\n",
        "    for j in range (len(X_train)):\n",
        "        #forward pass:\n",
        "        forward = forward_prop1(X_train[j],y_train[j],W1,W2)\n",
        "        loss += forward['loss']\n",
        "    \n",
        "        #back pass:\n",
        "        w11 , w22 = back_prop1(X_train[j],W1,W2,forward)\n",
        "        #weight updates\n",
        "        W1 = W1 - (learning_rate * w11)\n",
        "        W2 = W2 - (learning_rate * w22)\n",
        "  \n",
        "    for k in range(len(X_test)):\n",
        "        forward = forward_prop1(X_test[k],y_test[k],W1,W2)\n",
        "        loss1 += forward['loss']\n",
        "        \n",
        "    loss_sgd_tr.append(loss/len(X_train))\n",
        "    loss_sgd_te.append(loss1/len(X_test))\n",
        "    epochs.append(i)\n",
        "\n",
        "print('Train loss at the end of {} epoch is : {}'.format(epoch,loss_sgd_tr[-1]))\n",
        "print('Test loss at the end of {} epoch is : {}'.format(epoch,loss_sgd_te[-1]))\n"
      ],
      "execution_count": 26,
      "outputs": [
        {
          "output_type": "stream",
          "text": [
            "Train loss at the end of 2500 epoch is : [0.65635538]\n",
            "Test loss at the end of 2500 epoch is : [0.54879726]\n"
          ],
          "name": "stdout"
        }
      ]
    },
    {
      "cell_type": "code",
      "metadata": {
        "colab": {
          "base_uri": "https://localhost:8080/",
          "height": 295
        },
        "id": "Wqk2emW7x8Ri",
        "outputId": "40c58033-3dee-4379-91c5-c7c2ed0a12f9"
      },
      "source": [
        "plt.plot(epochs,loss_sgd_tr,label = 'train loss')\n",
        "plt.plot(epochs,loss_sgd_te,label = 'test loss')\n",
        "plt.legend()\n",
        "plt.xlabel(\"epochs\")\n",
        "plt.ylabel(\"loss\")\n",
        "plt.title(\"epochs Vs loss\")\n",
        "plt.grid()\n",
        "plt.show()"
      ],
      "execution_count": 27,
      "outputs": [
        {
          "output_type": "display_data",
          "data": {
            "image/png": "[encoded data removed]",
            "text/plain": [
              "<Figure size 432x288 with 1 Axes>"
            ]
          },
          "metadata": {
            "tags": [],
            "needs_background": "light"
          }
        }
      ]
    },
    {
      "cell_type": "code",
      "metadata": {
        "colab": {
          "base_uri": "https://localhost:8080/"
        },
        "id": "6MDoIPoSx-9H",
        "outputId": "376d15c6-3162-4d37-d802-9a3b36326729"
      },
      "source": [
        "W1 "
      ],
      "execution_count": 28,
      "outputs": [
        {
          "output_type": "execute_result",
          "data": {
            "text/plain": [
              "array([[ 4.78906382,  1.27066304,  3.31319993],\n",
              "       [-0.14523999,  0.06801423,  0.19792715],\n",
              "       [ 1.13420902,  0.27340901,  0.50167484],\n",
              "       [-5.04951595,  0.40750495,  0.58091036],\n",
              "       [ 2.65520675,  0.16314508, -0.39563986],\n",
              "       [-0.24025284,  0.57608081, -2.49867723]])"
            ]
          },
          "metadata": {
            "tags": []
          },
          "execution_count": 28
        }
      ]
    },
    {
      "cell_type": "code",
      "metadata": {
        "colab": {
          "base_uri": "https://localhost:8080/"
        },
        "id": "4SPFq5l2yj54",
        "outputId": "c7ca19d1-3c8b-4f68-acc5-a34fd11215ce"
      },
      "source": [
        "W2"
      ],
      "execution_count": 29,
      "outputs": [
        {
          "output_type": "execute_result",
          "data": {
            "text/plain": [
              "array([[ 5.67318126],\n",
              "       [-5.89288347],\n",
              "       [ 2.87373554]])"
            ]
          },
          "metadata": {
            "tags": []
          },
          "execution_count": 29
        }
      ]
    },
    {
      "cell_type": "code",
      "metadata": {
        "id": "SeMLkLIHzSu9"
      },
      "source": [
        "np.save('W1.npy', W1)\n",
        "np.save('W2.npy', W2)\n",
        "np.save('W.npy', W)"
      ],
      "execution_count": 30,
      "outputs": []
    },
    {
      "cell_type": "code",
      "metadata": {
        "id": "BHc8brhh3ZDG"
      },
      "source": [
        ""
      ],
      "execution_count": null,
      "outputs": []
    },
    {
      "cell_type": "markdown",
      "metadata": {
        "id": "1ZEW8PeG9W_b"
      },
      "source": [
        "# Momentum\n"
      ]
    },
    {
      "cell_type": "code",
      "metadata": {
        "colab": {
          "base_uri": "https://localhost:8080/"
        },
        "id": "JRP7d3cu9ZXZ",
        "outputId": "b8999588-da8a-4fcb-c473-26ee9bdb2c7b"
      },
      "source": [
        "W1 = np.random.normal(0.1,0.2, size=(6,3))\n",
        "W2 = np.random.normal(0.1,0.2, size=(3,1))\n",
        "epoch = 2500\n",
        "learning_rate = 0.001\n",
        "loss_momt_tr = []\n",
        "loss_momt_te = []\n",
        "epochs = []\n",
        "vdw1 = np.zeros((6,3))\n",
        "vdw2 = np.zeros((3,1))\n",
        "epochs = []\n",
        "beta = 0.5\n",
        "for i in range (epoch):\n",
        "  loss = 0 \n",
        "  loss1 = 0\n",
        "  for j in range (len(X_train)):\n",
        "    #forward pass\n",
        "    forward = forward_prop1(X_train[j],y_train[j],W1,W2)\n",
        "    loss += forward['loss']\n",
        "    #back pass:\n",
        "    w11 , w22 = back_prop1(X_train[j],W1,W2,forward)    \n",
        "    vdw1 = (beta * vdw1) + ((1-beta)*w11)\n",
        "    vdw2 = (beta * vdw2) + ((1-beta)*w22)\n",
        "    W1 = W1 - (learning_rate *vdw1)\n",
        "    W2 = W2 - (learning_rate *vdw2)\n",
        "    \n",
        "  for k in range(len(X_test)):\n",
        "      forward = forward_prop1(X_test[k],y_test[k],W1,W2)\n",
        "      loss1 += forward['loss']\n",
        "        \n",
        "  loss_momt_tr.append(loss/len(X_train))\n",
        "  loss_momt_te.append(loss1/len(X_test))\n",
        "  epochs.append(i)\n",
        "\n",
        "print('Train loss at the end of {} epoch is : {}'.format(epoch,loss_momt_tr[-1]))\n",
        "print('Test loss at the end of {} epoch is : {}'.format(epoch,loss_momt_te[-1]))\n"
      ],
      "execution_count": 37,
      "outputs": [
        {
          "output_type": "stream",
          "text": [
            "Train loss at the end of 2500 epoch is : [0.59923968]\n",
            "Test loss at the end of 2500 epoch is : [0.56766953]\n"
          ],
          "name": "stdout"
        }
      ]
    },
    {
      "cell_type": "code",
      "metadata": {
        "colab": {
          "base_uri": "https://localhost:8080/",
          "height": 295
        },
        "id": "rrXtsWdhALfg",
        "outputId": "c9789879-0090-4601-a598-23aa963c0c94"
      },
      "source": [
        "plt.plot(epochs,loss_momt_tr,label = 'Train loss')\n",
        "plt.plot(epochs,loss_momt_te,label = 'Test loss')\n",
        "\n",
        "plt.legend()\n",
        "plt.xlabel(\"epochs\")\n",
        "plt.ylabel(\"loss\")\n",
        "plt.title(\"epochs Vs loss\")\n",
        "plt.grid()\n",
        "plt.show()\n"
      ],
      "execution_count": 39,
      "outputs": [
        {
          "output_type": "display_data",
          "data": {
            "image/png": "[encoded data removed]",
            "text/plain": [
              "<Figure size 432x288 with 1 Axes>"
            ]
          },
          "metadata": {
            "tags": [],
            "needs_background": "light"
          }
        }
      ]
    },
    {
      "cell_type": "code",
      "metadata": {
        "colab": {
          "base_uri": "https://localhost:8080/"
        },
        "id": "dVZiQiB5AaUj",
        "outputId": "ebbacf5b-ddaf-4437-91a0-209cb67250ca"
      },
      "source": [
        "W1"
      ],
      "execution_count": 40,
      "outputs": [
        {
          "output_type": "execute_result",
          "data": {
            "text/plain": [
              "array([[ 1.24313821,  3.18910818,  5.09346778],\n",
              "       [ 0.23586403,  0.21789591, -0.05398191],\n",
              "       [ 0.03946089,  0.46063461,  1.18548081],\n",
              "       [ 0.53948762,  0.5515246 , -5.6309725 ],\n",
              "       [ 0.04471249, -0.44103729,  3.12168741],\n",
              "       [ 0.63738501, -2.38462767, -0.09025726]])"
            ]
          },
          "metadata": {
            "tags": []
          },
          "execution_count": 40
        }
      ]
    },
    {
      "cell_type": "code",
      "metadata": {
        "colab": {
          "base_uri": "https://localhost:8080/"
        },
        "id": "k2phnGIwDJzI",
        "outputId": "63bab0c2-f201-4bd1-82b3-e48b07f1edba"
      },
      "source": [
        "W2"
      ],
      "execution_count": 41,
      "outputs": [
        {
          "output_type": "execute_result",
          "data": {
            "text/plain": [
              "array([[-6.38795949],\n",
              "       [ 2.99226184],\n",
              "       [ 6.05917219]])"
            ]
          },
          "metadata": {
            "tags": []
          },
          "execution_count": 41
        }
      ]
    },
    {
      "cell_type": "code",
      "metadata": {
        "id": "k0nCoczyDLY8"
      },
      "source": [
        "np.save('W1_momt.npy', W1)\n",
        "np.save('W2_momt.npy', W2)\n"
      ],
      "execution_count": 42,
      "outputs": []
    },
    {
      "cell_type": "markdown",
      "metadata": {
        "id": "47-nulS0E0Qt"
      },
      "source": [
        "# Adam"
      ]
    },
    {
      "cell_type": "code",
      "metadata": {
        "colab": {
          "base_uri": "https://localhost:8080/"
        },
        "id": "GkwmfhmYEVvu",
        "outputId": "2566ef59-05e3-487e-dda2-c7817d3ccab7"
      },
      "source": [
        "W1 = np.random.normal(0.1,0.2, size=(6,3))\n",
        "W2 = np.random.normal(0.1,0.2, size=(3,1)) \n",
        "vdw1 = np.zeros((6,3))\n",
        "vdw2 = np.zeros((3,1))\n",
        "sdw1 = np.zeros((6,3))\n",
        "sdw2 = np.zeros((3,1))\n",
        "epoch = 500\n",
        "learning_rate = 0.0001\n",
        "weights = []\n",
        "\n",
        "epochs = []\n",
        "beta1 = 0.8\n",
        "beta2 = 0.99\n",
        "eps = 0.000001\n",
        "#print(W)\n",
        "#for k in range (len(X)):\n",
        "  #forward = forward_propagation(X[k],y[k],W)\n",
        "  #loss = forward['loss']\n",
        "\n",
        "#print('initial loss',loss)\n",
        "loss_adam_tr = []\n",
        "loss_adam_te = []\n",
        "\n",
        "for i in range (epoch):\n",
        "  #print('epoch {}'.format(i+1))\n",
        "  for j in range (len(X_train)):\n",
        "    #forward pass:\n",
        "    forward = forward_prop1(X_train[j],y_train[j],W1,W2)\n",
        "    loss = forward['loss']\n",
        "    #back pass\n",
        "    w11 , w22 = back_prop1(X_train[j],W1,W2,forward )\n",
        "    vdw1 = (beta1 * vdw1) + ((1-beta1) * np.array(w11))\n",
        "    vdw2 = (beta1 * vdw2) + ((1-beta1) * np.array(w22))\n",
        "    sdw1 = (beta2 * sdw1) + ((1-beta2)* np.array(w11)**2)\n",
        "    sdw2 = (beta2 * sdw2) + ((1-beta2)* np.array(w22)**2)\n",
        "    v_hat1 = vdw1 / (1-beta1**(j+1))\n",
        "    v_hat2 = vdw2 / (1-beta1**(j+1))\n",
        "    s_hat1 = sdw1 / (1-beta2**(j+1))\n",
        "    s_hat2 = sdw2 / (1-beta2**(j+1))\n",
        "\n",
        "    W1 = W1 - ((learning_rate* v_hat1)/((s_hat1)**0.5 + eps))\n",
        "    W2 = W2 - ((learning_rate* v_hat2)/((s_hat2)**0.5 + eps))\n",
        "  for k in range(len(X_test)):\n",
        "    forward = forward_prop1(X_test[k],y_test[k],W1,W2)\n",
        "    loss1 += forward['loss']   \n",
        "   \n",
        "  loss_adam_tr.append(loss/len(X_train))\n",
        "  loss_adam_te.append(loss/len(X_test))\n",
        "  epochs.append(i)\n",
        "\n",
        "\n",
        "print('loss at the end of {} epoch is : {}'.format(epoch,loss_adam_tr[-1]))\n",
        "print('loss at the end of {} epoch is : {}'.format(epoch,loss_adam_te[-1]))\n",
        "\n"
      ],
      "execution_count": 43,
      "outputs": [
        {
          "output_type": "stream",
          "text": [
            "loss at the end of 500 epoch is : [0.02468309]\n",
            "loss at the end of 500 epoch is : [0.12870468]\n"
          ],
          "name": "stdout"
        }
      ]
    },
    {
      "cell_type": "code",
      "metadata": {
        "colab": {
          "base_uri": "https://localhost:8080/",
          "height": 295
        },
        "id": "V_s_C95LGoMR",
        "outputId": "3198820c-eb45-4223-d8ac-0f0899bc1702"
      },
      "source": [
        "plt.plot(epochs,loss_adam_tr,label = 'Train loss')\n",
        "plt.plot(epochs,loss_adam_te,label = 'Test loss')\n",
        "\n",
        "plt.legend()\n",
        "plt.xlabel(\"epochs\")\n",
        "plt.ylabel(\"loss\")\n",
        "plt.title(\"epochs Vs loss\")\n",
        "plt.grid()\n",
        "plt.show()\n"
      ],
      "execution_count": 44,
      "outputs": [
        {
          "output_type": "display_data",
          "data": {
            "image/png": "[encoded data removed]",
            "text/plain": [
              "<Figure size 432x288 with 1 Axes>"
            ]
          },
          "metadata": {
            "tags": [],
            "needs_background": "light"
          }
        }
      ]
    },
    {
      "cell_type": "code",
      "metadata": {
        "id": "_NKAxfDpGwy2"
      },
      "source": [
        "np.save('W1_adam.npy', W1)\n",
        "np.save('W2_adam.npy', W2)\n",
        "np.save('W_adam.npy', W)"
      ],
      "execution_count": 45,
      "outputs": []
    },
    {
      "cell_type": "markdown",
      "metadata": {
        "id": "zGJ2DuOK8iXL"
      },
      "source": [
        "# Deploy Model"
      ]
    },
    {
      "cell_type": "code",
      "metadata": {
        "colab": {
          "base_uri": "https://localhost:8080/",
          "height": 1000
        },
        "id": "hxHL0XIp__oB",
        "outputId": "b5d6d225-ea36-42d8-8648-c9d3b074f6dc"
      },
      "source": [
        "\n",
        "!pip install streamlit\n",
        "\n",
        "\n",
        "!pip install pyngrok"
      ],
      "execution_count": 46,
      "outputs": [
        {
          "output_type": "stream",
          "text": [
            "Collecting streamlit\n",
            "\u001b[?25l  Downloading https://files.pythonhosted.org/packages/d9/99/a8913c21bd07a14f72658a01784414ffecb380ddd0f9a127257314fea697/streamlit-0.80.0-py2.py3-none-any.whl (8.2MB)\n",
            "\u001b[K     |████████████████████████████████| 8.2MB 6.3MB/s \n",
            "\u001b[?25hCollecting pydeck>=0.1.dev5\n",
            "\u001b[?25l  Downloading https://files.pythonhosted.org/packages/1c/3f/8f04ae0c22d82ec7bec7fcc03270a142f637e362bbd285f7daeeda24fbef/pydeck-0.6.1-py2.py3-none-any.whl (4.6MB)\n",
            "\u001b[K     |████████████████████████████████| 4.6MB 52.5MB/s \n",
            "\u001b[?25hRequirement already satisfied: protobuf!=3.11,>=3.6.0 in /usr/local/lib/python3.7/dist-packages (from streamlit) (3.12.4)\n",
            "Requirement already satisfied: altair>=3.2.0 in /usr/local/lib/python3.7/dist-packages (from streamlit) (4.1.0)\n",
            "Collecting validators\n",
            "  Downloading https://files.pythonhosted.org/packages/db/2f/7fed3ee94ad665ad2c1de87f858f10a7785251ff75b4fd47987888d07ef1/validators-0.18.2-py3-none-any.whl\n",
            "Requirement already satisfied: tornado>=5.0 in /usr/local/lib/python3.7/dist-packages (from streamlit) (5.1.1)\n",
            "Requirement already satisfied: toml in /usr/local/lib/python3.7/dist-packages (from streamlit) (0.10.2)\n",
            "Requirement already satisfied: packaging in /usr/local/lib/python3.7/dist-packages (from streamlit) (20.9)\n",
            "Requirement already satisfied: requests in /usr/local/lib/python3.7/dist-packages (from streamlit) (2.23.0)\n",
            "Requirement already satisfied: python-dateutil in /usr/local/lib/python3.7/dist-packages (from streamlit) (2.8.1)\n",
            "Requirement already satisfied: tzlocal in /usr/local/lib/python3.7/dist-packages (from streamlit) (1.5.1)\n",
            "Collecting base58\n",
            "  Downloading https://files.pythonhosted.org/packages/b8/a1/d9f565e9910c09fd325dc638765e8843a19fa696275c16cc08cf3b0a3c25/base58-2.1.0-py3-none-any.whl\n",
            "Requirement already satisfied: pyarrow; python_version < \"3.9\" in /usr/local/lib/python3.7/dist-packages (from streamlit) (3.0.0)\n",
            "Collecting watchdog; platform_system != \"Darwin\"\n",
            "\u001b[?25l  Downloading https://files.pythonhosted.org/packages/c6/ba/a36ca5b4e75649a002f06531862467b3eb5c768caa23d6d88b921fe238d8/watchdog-2.0.2-py3-none-manylinux2014_x86_64.whl (74kB)\n",
            "\u001b[K     |████████████████████████████████| 81kB 10.4MB/s \n",
            "\u001b[?25hRequirement already satisfied: click>=7.0 in /usr/local/lib/python3.7/dist-packages (from streamlit) (7.1.2)\n",
            "Requirement already satisfied: pandas>=0.21.0 in /usr/local/lib/python3.7/dist-packages (from streamlit) (1.1.5)\n",
            "Requirement already satisfied: numpy in /usr/local/lib/python3.7/dist-packages (from streamlit) (1.19.5)\n",
            "Requirement already satisfied: astor in /usr/local/lib/python3.7/dist-packages (from streamlit) (0.8.1)\n",
            "Collecting blinker\n",
            "\u001b[?25l  Downloading https://files.pythonhosted.org/packages/1b/51/e2a9f3b757eb802f61dc1f2b09c8c99f6eb01cf06416c0671253536517b6/blinker-1.4.tar.gz (111kB)\n",
            "\u001b[K     |████████████████████████████████| 112kB 62.2MB/s \n",
            "\u001b[?25hRequirement already satisfied: cachetools>=4.0 in /usr/local/lib/python3.7/dist-packages (from streamlit) (4.2.1)\n",
            "Collecting gitpython\n",
            "\u001b[?25l  Downloading https://files.pythonhosted.org/packages/a6/99/98019716955ba243657daedd1de8f3a88ca1f5b75057c38e959db22fb87b/GitPython-3.1.14-py3-none-any.whl (159kB)\n",
            "\u001b[K     |████████████████████████████████| 163kB 40.8MB/s \n",
            "\u001b[?25hRequirement already satisfied: pillow>=6.2.0 in /usr/local/lib/python3.7/dist-packages (from streamlit) (7.1.2)\n",
            "Requirement already satisfied: ipywidgets>=7.0.0 in /usr/local/lib/python3.7/dist-packages (from pydeck>=0.1.dev5->streamlit) (7.6.3)\n",
            "Collecting ipykernel>=5.1.2; python_version >= \"3.4\"\n",
            "\u001b[?25l  Downloading https://files.pythonhosted.org/packages/3a/7d/9f8ac1b1b76f2f1538b5650f0b5636bae082724b1e06939a3a9d38e1380e/ipykernel-5.5.3-py3-none-any.whl (120kB)\n",
            "\u001b[K     |████████████████████████████████| 122kB 48.7MB/s \n",
            "\u001b[?25hRequirement already satisfied: traitlets>=4.3.2 in /usr/local/lib/python3.7/dist-packages (from pydeck>=0.1.dev5->streamlit) (5.0.5)\n",
            "Requirement already satisfied: jinja2>=2.10.1 in /usr/local/lib/python3.7/dist-packages (from pydeck>=0.1.dev5->streamlit) (2.11.3)\n",
            "Requirement already satisfied: setuptools in /usr/local/lib/python3.7/dist-packages (from protobuf!=3.11,>=3.6.0->streamlit) (54.2.0)\n",
            "Requirement already satisfied: six>=1.9 in /usr/local/lib/python3.7/dist-packages (from protobuf!=3.11,>=3.6.0->streamlit) (1.15.0)\n",
            "Requirement already satisfied: entrypoints in /usr/local/lib/python3.7/dist-packages (from altair>=3.2.0->streamlit) (0.3)\n",
            "Requirement already satisfied: jsonschema in /usr/local/lib/python3.7/dist-packages (from altair>=3.2.0->streamlit) (2.6.0)\n",
            "Requirement already satisfied: toolz in /usr/local/lib/python3.7/dist-packages (from altair>=3.2.0->streamlit) (0.11.1)\n",
            "Requirement already satisfied: decorator>=3.4.0 in /usr/local/lib/python3.7/dist-packages (from validators->streamlit) (4.4.2)\n",
            "Requirement already satisfied: pyparsing>=2.0.2 in /usr/local/lib/python3.7/dist-packages (from packaging->streamlit) (2.4.7)\n",
            "Requirement already satisfied: urllib3!=1.25.0,!=1.25.1,<1.26,>=1.21.1 in /usr/local/lib/python3.7/dist-packages (from requests->streamlit) (1.24.3)\n",
            "Requirement already satisfied: chardet<4,>=3.0.2 in /usr/local/lib/python3.7/dist-packages (from requests->streamlit) (3.0.4)\n",
            "Requirement already satisfied: certifi>=2017.4.17 in /usr/local/lib/python3.7/dist-packages (from requests->streamlit) (2020.12.5)\n",
            "Requirement already satisfied: idna<3,>=2.5 in /usr/local/lib/python3.7/dist-packages (from requests->streamlit) (2.10)\n",
            "Requirement already satisfied: pytz in /usr/local/lib/python3.7/dist-packages (from tzlocal->streamlit) (2018.9)\n",
            "Collecting gitdb<5,>=4.0.1\n",
            "\u001b[?25l  Downloading https://files.pythonhosted.org/packages/ea/e8/f414d1a4f0bbc668ed441f74f44c116d9816833a48bf81d22b697090dba8/gitdb-4.0.7-py3-none-any.whl (63kB)\n",
            "\u001b[K     |████████████████████████████████| 71kB 10.1MB/s \n",
            "\u001b[?25hRequirement already satisfied: nbformat>=4.2.0 in /usr/local/lib/python3.7/dist-packages (from ipywidgets>=7.0.0->pydeck>=0.1.dev5->streamlit) (5.1.2)\n",
            "Requirement already satisfied: ipython>=4.0.0; python_version >= \"3.3\" in /usr/local/lib/python3.7/dist-packages (from ipywidgets>=7.0.0->pydeck>=0.1.dev5->streamlit) (5.5.0)\n",
            "Requirement already satisfied: widgetsnbextension~=3.5.0 in /usr/local/lib/python3.7/dist-packages (from ipywidgets>=7.0.0->pydeck>=0.1.dev5->streamlit) (3.5.1)\n",
            "Requirement already satisfied: jupyterlab-widgets>=1.0.0; python_version >= \"3.6\" in /usr/local/lib/python3.7/dist-packages (from ipywidgets>=7.0.0->pydeck>=0.1.dev5->streamlit) (1.0.0)\n",
            "Requirement already satisfied: jupyter-client in /usr/local/lib/python3.7/dist-packages (from ipykernel>=5.1.2; python_version >= \"3.4\"->pydeck>=0.1.dev5->streamlit) (5.3.5)\n",
            "Requirement already satisfied: ipython-genutils in /usr/local/lib/python3.7/dist-packages (from traitlets>=4.3.2->pydeck>=0.1.dev5->streamlit) (0.2.0)\n",
            "Requirement already satisfied: MarkupSafe>=0.23 in /usr/local/lib/python3.7/dist-packages (from jinja2>=2.10.1->pydeck>=0.1.dev5->streamlit) (1.1.1)\n",
            "Collecting smmap<5,>=3.0.1\n",
            "  Downloading https://files.pythonhosted.org/packages/68/ee/d540eb5e5996eb81c26ceffac6ee49041d473bc5125f2aa995cf51ec1cf1/smmap-4.0.0-py2.py3-none-any.whl\n",
            "Requirement already satisfied: jupyter-core in /usr/local/lib/python3.7/dist-packages (from nbformat>=4.2.0->ipywidgets>=7.0.0->pydeck>=0.1.dev5->streamlit) (4.7.1)\n",
            "Requirement already satisfied: pickleshare in /usr/local/lib/python3.7/dist-packages (from ipython>=4.0.0; python_version >= \"3.3\"->ipywidgets>=7.0.0->pydeck>=0.1.dev5->streamlit) (0.7.5)\n",
            "Requirement already satisfied: pexpect; sys_platform != \"win32\" in /usr/local/lib/python3.7/dist-packages (from ipython>=4.0.0; python_version >= \"3.3\"->ipywidgets>=7.0.0->pydeck>=0.1.dev5->streamlit) (4.8.0)\n",
            "Requirement already satisfied: pygments in /usr/local/lib/python3.7/dist-packages (from ipython>=4.0.0; python_version >= \"3.3\"->ipywidgets>=7.0.0->pydeck>=0.1.dev5->streamlit) (2.6.1)\n",
            "Requirement already satisfied: prompt-toolkit<2.0.0,>=1.0.4 in /usr/local/lib/python3.7/dist-packages (from ipython>=4.0.0; python_version >= \"3.3\"->ipywidgets>=7.0.0->pydeck>=0.1.dev5->streamlit) (1.0.18)\n",
            "Requirement already satisfied: simplegeneric>0.8 in /usr/local/lib/python3.7/dist-packages (from ipython>=4.0.0; python_version >= \"3.3\"->ipywidgets>=7.0.0->pydeck>=0.1.dev5->streamlit) (0.8.1)\n",
            "Requirement already satisfied: notebook>=4.4.1 in /usr/local/lib/python3.7/dist-packages (from widgetsnbextension~=3.5.0->ipywidgets>=7.0.0->pydeck>=0.1.dev5->streamlit) (5.3.1)\n",
            "Requirement already satisfied: pyzmq>=13 in /usr/local/lib/python3.7/dist-packages (from jupyter-client->ipykernel>=5.1.2; python_version >= \"3.4\"->pydeck>=0.1.dev5->streamlit) (22.0.3)\n",
            "Requirement already satisfied: ptyprocess>=0.5 in /usr/local/lib/python3.7/dist-packages (from pexpect; sys_platform != \"win32\"->ipython>=4.0.0; python_version >= \"3.3\"->ipywidgets>=7.0.0->pydeck>=0.1.dev5->streamlit) (0.7.0)\n",
            "Requirement already satisfied: wcwidth in /usr/local/lib/python3.7/dist-packages (from prompt-toolkit<2.0.0,>=1.0.4->ipython>=4.0.0; python_version >= \"3.3\"->ipywidgets>=7.0.0->pydeck>=0.1.dev5->streamlit) (0.2.5)\n",
            "Requirement already satisfied: terminado>=0.8.1 in /usr/local/lib/python3.7/dist-packages (from notebook>=4.4.1->widgetsnbextension~=3.5.0->ipywidgets>=7.0.0->pydeck>=0.1.dev5->streamlit) (0.9.3)\n",
            "Requirement already satisfied: nbconvert in /usr/local/lib/python3.7/dist-packages (from notebook>=4.4.1->widgetsnbextension~=3.5.0->ipywidgets>=7.0.0->pydeck>=0.1.dev5->streamlit) (5.6.1)\n",
            "Requirement already satisfied: Send2Trash in /usr/local/lib/python3.7/dist-packages (from notebook>=4.4.1->widgetsnbextension~=3.5.0->ipywidgets>=7.0.0->pydeck>=0.1.dev5->streamlit) (1.5.0)\n",
            "Requirement already satisfied: mistune<2,>=0.8.1 in /usr/local/lib/python3.7/dist-packages (from nbconvert->notebook>=4.4.1->widgetsnbextension~=3.5.0->ipywidgets>=7.0.0->pydeck>=0.1.dev5->streamlit) (0.8.4)\n",
            "Requirement already satisfied: defusedxml in /usr/local/lib/python3.7/dist-packages (from nbconvert->notebook>=4.4.1->widgetsnbextension~=3.5.0->ipywidgets>=7.0.0->pydeck>=0.1.dev5->streamlit) (0.7.1)\n",
            "Requirement already satisfied: pandocfilters>=1.4.1 in /usr/local/lib/python3.7/dist-packages (from nbconvert->notebook>=4.4.1->widgetsnbextension~=3.5.0->ipywidgets>=7.0.0->pydeck>=0.1.dev5->streamlit) (1.4.3)\n",
            "Requirement already satisfied: testpath in /usr/local/lib/python3.7/dist-packages (from nbconvert->notebook>=4.4.1->widgetsnbextension~=3.5.0->ipywidgets>=7.0.0->pydeck>=0.1.dev5->streamlit) (0.4.4)\n",
            "Requirement already satisfied: bleach in /usr/local/lib/python3.7/dist-packages (from nbconvert->notebook>=4.4.1->widgetsnbextension~=3.5.0->ipywidgets>=7.0.0->pydeck>=0.1.dev5->streamlit) (3.3.0)\n",
            "Requirement already satisfied: webencodings in /usr/local/lib/python3.7/dist-packages (from bleach->nbconvert->notebook>=4.4.1->widgetsnbextension~=3.5.0->ipywidgets>=7.0.0->pydeck>=0.1.dev5->streamlit) (0.5.1)\n",
            "Building wheels for collected packages: blinker\n",
            "  Building wheel for blinker (setup.py) ... \u001b[?25l\u001b[?25hdone\n",
            "  Created wheel for blinker: filename=blinker-1.4-cp37-none-any.whl size=13448 sha256=80a4d25930aeb50c1f763c57cb43f9ab9e878904dc3c35ae065276d87eff5898\n",
            "  Stored in directory: /root/.cache/pip/wheels/92/a0/00/8690a57883956a301d91cf4ec999cc0b258b01e3f548f86e89\n",
            "Successfully built blinker\n",
            "\u001b[31mERROR: google-colab 1.0.0 has requirement ipykernel~=4.10, but you'll have ipykernel 5.5.3 which is incompatible.\u001b[0m\n",
            "Installing collected packages: ipykernel, pydeck, validators, base58, watchdog, blinker, smmap, gitdb, gitpython, streamlit\n",
            "  Found existing installation: ipykernel 4.10.1\n",
            "    Uninstalling ipykernel-4.10.1:\n",
            "      Successfully uninstalled ipykernel-4.10.1\n",
            "Successfully installed base58-2.1.0 blinker-1.4 gitdb-4.0.7 gitpython-3.1.14 ipykernel-5.5.3 pydeck-0.6.1 smmap-4.0.0 streamlit-0.80.0 validators-0.18.2 watchdog-2.0.2\n"
          ],
          "name": "stdout"
        },
        {
          "output_type": "display_data",
          "data": {
            "application/vnd.colab-display-data+json": {
              "pip_warning": {
                "packages": [
                  "ipykernel"
                ]
              }
            }
          },
          "metadata": {
            "tags": []
          }
        },
        {
          "output_type": "stream",
          "text": [
            "Collecting pyngrok\n",
            "\u001b[?25l  Downloading https://files.pythonhosted.org/packages/6b/4e/a2fe095bbe17cf26424c4abcd22a0490e22d01cc628f25af5e220ddbf6f0/pyngrok-5.0.5.tar.gz (745kB)\n",
            "\r\u001b[K     |▍                               | 10kB 21.9MB/s eta 0:00:01\r\u001b[K     |▉                               | 20kB 23.9MB/s eta 0:00:01\r\u001b[K     |█▎                              | 30kB 12.5MB/s eta 0:00:01\r\u001b[K     |█▊                              | 40kB 9.8MB/s eta 0:00:01\r\u001b[K     |██▏                             | 51kB 8.1MB/s eta 0:00:01\r\u001b[K     |██▋                             | 61kB 8.1MB/s eta 0:00:01\r\u001b[K     |███                             | 71kB 8.2MB/s eta 0:00:01\r\u001b[K     |███▌                            | 81kB 8.7MB/s eta 0:00:01\r\u001b[K     |████                            | 92kB 8.1MB/s eta 0:00:01\r\u001b[K     |████▍                           | 102kB 8.3MB/s eta 0:00:01\r\u001b[K     |████▉                           | 112kB 8.3MB/s eta 0:00:01\r\u001b[K     |█████▎                          | 122kB 8.3MB/s eta 0:00:01\r\u001b[K     |█████▊                          | 133kB 8.3MB/s eta 0:00:01\r\u001b[K     |██████▏                         | 143kB 8.3MB/s eta 0:00:01\r\u001b[K     |██████▋                         | 153kB 8.3MB/s eta 0:00:01\r\u001b[K     |███████                         | 163kB 8.3MB/s eta 0:00:01\r\u001b[K     |███████▌                        | 174kB 8.3MB/s eta 0:00:01\r\u001b[K     |████████                        | 184kB 8.3MB/s eta 0:00:01\r\u001b[K     |████████▍                       | 194kB 8.3MB/s eta 0:00:01\r\u001b[K     |████████▉                       | 204kB 8.3MB/s eta 0:00:01\r\u001b[K     |█████████▎                      | 215kB 8.3MB/s eta 0:00:01\r\u001b[K     |█████████▊                      | 225kB 8.3MB/s eta 0:00:01\r\u001b[K     |██████████▏                     | 235kB 8.3MB/s eta 0:00:01\r\u001b[K     |██████████▌                     | 245kB 8.3MB/s eta 0:00:01\r\u001b[K     |███████████                     | 256kB 8.3MB/s eta 0:00:01\r\u001b[K     |███████████▍                    | 266kB 8.3MB/s eta 0:00:01\r\u001b[K     |███████████▉                    | 276kB 8.3MB/s eta 0:00:01\r\u001b[K     |████████████▎                   | 286kB 8.3MB/s eta 0:00:01\r\u001b[K     |████████████▊                   | 296kB 8.3MB/s eta 0:00:01\r\u001b[K     |█████████████▏                  | 307kB 8.3MB/s eta 0:00:01\r\u001b[K     |█████████████▋                  | 317kB 8.3MB/s eta 0:00:01\r\u001b[K     |██████████████                  | 327kB 8.3MB/s eta 0:00:01\r\u001b[K     |██████████████▌                 | 337kB 8.3MB/s eta 0:00:01\r\u001b[K     |███████████████                 | 348kB 8.3MB/s eta 0:00:01\r\u001b[K     |███████████████▍                | 358kB 8.3MB/s eta 0:00:01\r\u001b[K     |███████████████▉                | 368kB 8.3MB/s eta 0:00:01\r\u001b[K     |████████████████▎               | 378kB 8.3MB/s eta 0:00:01\r\u001b[K     |████████████████▊               | 389kB 8.3MB/s eta 0:00:01\r\u001b[K     |█████████████████▏              | 399kB 8.3MB/s eta 0:00:01\r\u001b[K     |█████████████████▋              | 409kB 8.3MB/s eta 0:00:01\r\u001b[K     |██████████████████              | 419kB 8.3MB/s eta 0:00:01\r\u001b[K     |██████████████████▌             | 430kB 8.3MB/s eta 0:00:01\r\u001b[K     |███████████████████             | 440kB 8.3MB/s eta 0:00:01\r\u001b[K     |███████████████████▍            | 450kB 8.3MB/s eta 0:00:01\r\u001b[K     |███████████████████▉            | 460kB 8.3MB/s eta 0:00:01\r\u001b[K     |████████████████████▎           | 471kB 8.3MB/s eta 0:00:01\r\u001b[K     |████████████████████▊           | 481kB 8.3MB/s eta 0:00:01\r\u001b[K     |█████████████████████           | 491kB 8.3MB/s eta 0:00:01\r\u001b[K     |█████████████████████▌          | 501kB 8.3MB/s eta 0:00:01\r\u001b[K     |██████████████████████          | 512kB 8.3MB/s eta 0:00:01\r\u001b[K     |██████████████████████▍         | 522kB 8.3MB/s eta 0:00:01\r\u001b[K     |██████████████████████▉         | 532kB 8.3MB/s eta 0:00:01\r\u001b[K     |███████████████████████▎        | 542kB 8.3MB/s eta 0:00:01\r\u001b[K     |███████████████████████▊        | 552kB 8.3MB/s eta 0:00:01\r\u001b[K     |████████████████████████▏       | 563kB 8.3MB/s eta 0:00:01\r\u001b[K     |████████████████████████▋       | 573kB 8.3MB/s eta 0:00:01\r\u001b[K     |█████████████████████████       | 583kB 8.3MB/s eta 0:00:01\r\u001b[K     |█████████████████████████▌      | 593kB 8.3MB/s eta 0:00:01\r\u001b[K     |██████████████████████████      | 604kB 8.3MB/s eta 0:00:01\r\u001b[K     |██████████████████████████▍     | 614kB 8.3MB/s eta 0:00:01\r\u001b[K     |██████████████████████████▉     | 624kB 8.3MB/s eta 0:00:01\r\u001b[K     |███████████████████████████▎    | 634kB 8.3MB/s eta 0:00:01\r\u001b[K     |███████████████████████████▊    | 645kB 8.3MB/s eta 0:00:01\r\u001b[K     |████████████████████████████▏   | 655kB 8.3MB/s eta 0:00:01\r\u001b[K     |████████████████████████████▋   | 665kB 8.3MB/s eta 0:00:01\r\u001b[K     |█████████████████████████████   | 675kB 8.3MB/s eta 0:00:01\r\u001b[K     |█████████████████████████████▌  | 686kB 8.3MB/s eta 0:00:01\r\u001b[K     |██████████████████████████████  | 696kB 8.3MB/s eta 0:00:01\r\u001b[K     |██████████████████████████████▍ | 706kB 8.3MB/s eta 0:00:01\r\u001b[K     |██████████████████████████████▉ | 716kB 8.3MB/s eta 0:00:01\r\u001b[K     |███████████████████████████████▏| 727kB 8.3MB/s eta 0:00:01\r\u001b[K     |███████████████████████████████▋| 737kB 8.3MB/s eta 0:00:01\r\u001b[K     |████████████████████████████████| 747kB 8.3MB/s \n",
            "\u001b[?25hRequirement already satisfied: PyYAML in /usr/local/lib/python3.7/dist-packages (from pyngrok) (3.13)\n",
            "Building wheels for collected packages: pyngrok\n",
            "  Building wheel for pyngrok (setup.py) ... \u001b[?25l\u001b[?25hdone\n",
            "  Created wheel for pyngrok: filename=pyngrok-5.0.5-cp37-none-any.whl size=19246 sha256=d16765fb8c8113caf3a5ae658f424d507c91801222dd9073252876caac82b764\n",
            "  Stored in directory: /root/.cache/pip/wheels/0c/13/64/5ebbcc22eaf53fdf5766b397c1fb17c83f5775fdccf0ea1b88\n",
            "Successfully built pyngrok\n",
            "Installing collected packages: pyngrok\n",
            "Successfully installed pyngrok-5.0.5\n"
          ],
          "name": "stdout"
        }
      ]
    },
    {
      "cell_type": "code",
      "metadata": {
        "colab": {
          "base_uri": "https://localhost:8080/"
        },
        "id": "T0d0cTH5K69s",
        "outputId": "7ef8253f-ccab-4519-bb5c-bea004defe78"
      },
      "source": [
        "\n",
        "%%writefile app.py \n",
        "\n",
        "import numpy as np\n",
        "import streamlit as st\n",
        "\n",
        "W1 = np.load('/content/W1_momt.npy')\n",
        "W2 = np.load('/content/W2_momt.npy')\n",
        "W3 =  np.load('/content/W_momt.npy')\n",
        "\n",
        "\n",
        "\n",
        "def sigmoid(z):\n",
        "    '''In this function, we will compute the sigmoid(z)'''\n",
        "    # we can use this function in forward and backward propagation\n",
        "\n",
        "    return (1/(1+np.exp(-z)))\n",
        "\n",
        "def predict_flux(X,W1,W2):\n",
        "    X1= np.log(X)\n",
        "    z11,z12,z13 = np.dot(np.transpose(W1),X1.reshape(-1,1))\n",
        "    o11 = sigmoid(z11)\n",
        "    o12 = sigmoid(z12)\n",
        "    o13 = sigmoid(z13)\n",
        "    y_hat = o11*W2[0] + o12*W2[1] + o13*W2[2]\n",
        "\n",
        "    return np.exp(y_hat[0])\n",
        "\n",
        "\n",
        "def perceptron_predict_flux(X,W):\n",
        "    X1 = np.log(X)\n",
        "    y_hat = np.dot(np.transpose(W),X1.reshape(-1,1))\n",
        "    return np.exp(y_hat[0])\n",
        "\n",
        "def main():\n",
        "    st.text('Author : Ananda Hange')\n",
        "    st.title(\"Target Prediction\")\n",
        "    html_temp = \"\"\"\n",
        "    <div style=\"background-color:tomato;padding:10px\">\n",
        "    <h2 style=\"color:white;text-align:center;\">Streamlit Target Predictior ANN App </h2>\n",
        "    </div>\n",
        "    \"\"\"\n",
        "    st.markdown(html_temp,unsafe_allow_html=True)\n",
        "    FT = st.number_input(\"X1 :\")\n",
        "    FFR = st.number_input(\"X2 :\")\n",
        "    CFR = st.number_input(\"X3 :\")\n",
        "    N = st.number_input(\"X4 :\")\n",
        "    W = st.number_input(\"X5 :\")\n",
        "    L = st.number_input(\"X6 :\")\n",
        "\n",
        "    X = np.array([FT,FFR,CFR,N,W,L])\n",
        "    ann = [\"Perceptron\", \"Multilayer Perceptron\"]\n",
        "    opt = st.radio('Select Type of ANN : ',ann)\n",
        "\n",
        "    result=\"\"\n",
        "\n",
        "    if opt == 'Perceptron':\n",
        "      if st.button(\"Predict\"):\n",
        "        result = perceptron_predict_flux(X,W3)\n",
        "        #print(result)\n",
        "      st.success('The Target is : {}'.format(result))\n",
        "\n",
        "    if opt == 'Multilayer Perceptron':\n",
        "      if st.button(\"Predict\"):\n",
        "        result = predict_flux(X,W1,W2)\n",
        "      st.success('The Target is : {}'.format(result))\n",
        "    \n",
        "\n",
        "if __name__=='__main__':\n",
        "    main()"
      ],
      "execution_count": 53,
      "outputs": [
        {
          "output_type": "stream",
          "text": [
            "Overwriting app.py\n"
          ],
          "name": "stdout"
        }
      ]
    },
    {
      "cell_type": "code",
      "metadata": {
        "colab": {
          "base_uri": "https://localhost:8080/"
        },
        "id": "5RGgOImDIDWH",
        "outputId": "d040cc2a-2eb3-41b3-adb2-b8ee48a8a0e0"
      },
      "source": [
        "from pyngrok import ngrok\n",
        "#connecting to port = 80\n",
        "public_url = ngrok.connect(port=80)\n",
        "print (public_url)"
      ],
      "execution_count": 54,
      "outputs": [
        {
          "output_type": "stream",
          "text": [
            "NgrokTunnel: \"http://be48830f1af1.ngrok.io\" -> \"http://localhost:80\"\n"
          ],
          "name": "stdout"
        }
      ]
    },
    {
      "cell_type": "code",
      "metadata": {
        "colab": {
          "base_uri": "https://localhost:8080/"
        },
        "id": "7wRCaMZCITEV",
        "outputId": "44726ef6-e33d-498b-9994-a9238ec989ba"
      },
      "source": [
        "!export STREAMLIT_SERVER_PORT=80\n",
        "#running Script using streamlit:\n",
        "!streamlit run app.py --server.port 80"
      ],
      "execution_count": 55,
      "outputs": [
        {
          "output_type": "stream",
          "text": [
            "2021-04-10 17:00:54.789 An update to the [server] config option section was detected. To have these changes be reflected, please restart streamlit.\n",
            "\u001b[0m\n",
            "\u001b[34m\u001b[1m  You can now view your Streamlit app in your browser.\u001b[0m\n",
            "\u001b[0m\n",
            "\u001b[34m  Network URL: \u001b[0m\u001b[1mhttp://172.28.0.2:80\u001b[0m\n",
            "\u001b[34m  External URL: \u001b[0m\u001b[1mhttp://34.125.80.22:80\u001b[0m\n",
            "\u001b[0m\n",
            "\u001b[34m  Stopping...\u001b[0m\n",
            "\u001b[34m  Stopping...\u001b[0m\n"
          ],
          "name": "stdout"
        }
      ]
    },
    {
      "cell_type": "code",
      "metadata": {
        "id": "4iWffuNtptCn"
      },
      "source": [
        ""
      ],
      "execution_count": null,
      "outputs": []
    }
  ]
}